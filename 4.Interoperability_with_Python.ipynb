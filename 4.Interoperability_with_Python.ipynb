{
  "cells": [
    {
      "cell_type": "markdown",
      "source": [
        "# Interoperability with Python using Pybind11\n",
        "\n",
        "In this tutorial, we will explore how to use Pybind11 to seamlessly integrate C++ code with Python. Pybind11 is a lightweight header-only library that exposes C++ types in Python and vice versa, mainly to create Python bindings of existing C++ code. The topics we will cover include:\n",
        "\n",
        "1. Calling Python Functions from C++\n",
        "2. Using Python Types in C++\n",
        "3. Converting Between Python and C++ Types\n",
        "\n",
        "Let's dive in!"
      ],
      "metadata": {
        "amin": {
          "cell_type": "markdown"
        }
      },
      "id": "03efa78b-7b3a-4430-902f-4251e204b259"
    },
    {
      "cell_type": "markdown",
      "source": [
        "## 1. Calling Python Functions from C++\n",
        "\n",
        "To call Python functions from C++ using Pybind11, you'll need to perform the following steps:\n",
        "\n",
        "1. **Initialize the Python interpreter** using `Py_Initialize();`.\n",
        "2. **Import the required Python module**. This can be done using the `py::module_::import(\"module_name\")` function.\n",
        "3. **Call the desired Python function**. Once you have the module, you can call any function from it just like you would in Python.\n",
        "\n",
        "Here's a simple example where we call a Python function that adds two numbers from a C++ program:"
      ],
      "metadata": {
        "amin": {
          "cell_type": "markdown"
        }
      },
      "id": "1a1b382e-583f-4ac4-82ce-5f9cc070fdf7"
    },
    {
      "cell_type": "code",
      "source": [
        "```cpp\n",
        "#include <pybind11/pybind11.h>\n",
        "#include <pybind11/embed.h>\n",
        "\n",
        "namespace py = pybind11;\n",
        "\n",
        "int main() {\n",
        "    py::scoped_interpreter guard{};  // Initialize the Python interpreter\n",
        "\n",
        "    py::object sum_func = py::module_::import(\"builtins\").attr(\"sum\");\n",
        "    py::list numbers = {1, 2, 3, 4, 5};\n",
        "    int result = sum_func(numbers).cast<int>();\n",
        "\n",
        "    std::cout << \"The sum is: \" << result << std::endl;\n",
        "\n",
        "    return 0;\n",
        "}\n",
        "```\n",
        "\n",
        "In the above code, we initialize the Python interpreter, import the built-in `sum` function, and then call it with a list of numbers. The result is then cast to an `int` and printed out."
      ],
      "outputs": [],
      "execution_count": null,
      "metadata": {
        "amin": {
          "cell_type": "code"
        }
      },
      "id": "6976d67b-377d-4101-acf3-84ae5e9dd030"
    },
    {
      "cell_type": "markdown",
      "source": [
        "## 2. Using Python Types in C++\n",
        "\n",
        "Pybind11 allows you to seamlessly use Python types in your C++ code. This is especially useful when you need to manipulate Python objects or when interfacing with Python libraries that return Python objects.\n",
        "\n",
        "Here are some common Python types and how you can use them in C++ with Pybind11:"
      ],
      "metadata": {
        "amin": {
          "cell_type": "markdown"
        }
      },
      "id": "4c8af0c8-fbf9-48f4-b0b0-665576728995"
    },
    {
      "cell_type": "code",
      "source": [
        "```cpp\n",
        "#include <pybind11/pybind11.h>\n",
        "\n",
        "namespace py = pybind11;\n",
        "\n",
        "int main() {\n",
        "    // Using Python lists\n",
        "    py::list pyList = {1, 2, 3, 4, 5};\n",
        "    pyList.append(6);\n",
        "\n",
        "    // Using Python dictionaries\n",
        "    py::dict pyDict;\n",
        "    pyDict[\"key\"] = \"value\";\n",
        "    std::string value = pyDict[\"key\"].cast<std::string>();\n",
        "\n",
        "    // Using Python tuples\n",
        "    py::tuple pyTuple = py::make_tuple(1, \"two\", 3.0);\n",
        "    int firstElement = pyTuple[0].cast<int>();\n",
        "\n",
        "    return 0;\n",
        "}\n",
        "```\n",
        "\n",
        "In this example, we demonstrate how to use Python lists, dictionaries, and tuples in C++ using Pybind11. The operations are intuitive and mirror the operations you would perform in Python."
      ],
      "outputs": [],
      "execution_count": null,
      "metadata": {
        "amin": {
          "cell_type": "code"
        }
      },
      "id": "92c0231b-9fe8-4f33-83c6-743f33f3495b"
    },
    {
      "cell_type": "markdown",
      "source": [
        "## 3. Converting Between Python and C++ Types\n",
        "\n",
        "One of the strengths of Pybind11 is its ability to automatically convert between Python and C++ types. This makes it easy to pass data back and forth between the two languages without manual serialization or deserialization.\n",
        "\n",
        "The `cast` method provided by Pybind11 is used to convert Python objects to C++ types and vice versa. Here's how you can use it:"
      ],
      "metadata": {
        "amin": {
          "cell_type": "markdown"
        }
      },
      "id": "a9ef49c4-44d9-43d7-8faf-cb0a6fab85c4"
    },
    {
      "cell_type": "code",
      "source": [
        "```cpp\n",
        "#include <pybind11/pybind11.h>\n",
        "\n",
        "namespace py = pybind11;\n",
        "\n",
        "int main() {\n",
        "    // Convert Python int to C++ int\n",
        "    py::object pyInt = py::int_(42);\n",
        "    int cppInt = pyInt.cast<int>();\n",
        "\n",
        "    // Convert C++ string to Python string\n",
        "    std::string cppString = \"Hello, Pybind11!\";\n",
        "    py::str pyString = py::cast(cppString);\n",
        "\n",
        "    return 0;\n",
        "}\n",
        "```\n",
        "\n",
        "In this example, we demonstrate how to convert a Python integer to a C++ integer and a C++ string to a Python string using the `cast` method."
      ],
      "outputs": [],
      "execution_count": null,
      "metadata": {
        "amin": {
          "cell_type": "code"
        }
      },
      "id": "879bcc73-ca52-4c37-a79b-db1e031c1d96"
    },
    {
      "cell_type": "markdown",
      "source": [
        "## Real-World Scenario: Image Processing with Python and C++\n",
        "\n",
        "Consider a situation where you're developing a high-performance application in C++ that processes vast amounts of image data. While C++ offers the speed and efficiency you need, Python boasts powerful image processing libraries like OpenCV and Pillow, providing a wide range of functionalities.\n",
        "\n",
        "In a scenario where you wish to apply a specific image filter available in Python but time-consuming to implement in C++ from scratch, it's efficient to call the Python function directly from the C++ application.\n",
        "\n",
        "### Python Code\n",
        "We'll utilize the Pillow library to apply a Gaussian blur filter to an image.\n",
        "\n",
        "```python\n",
        "# image_processing.py\n",
        "\n",
        "from PIL import Image, ImageFilter\n",
        "\n",
        "def apply_gaussian_blur(input_path, output_path):\n",
        "    with Image.open(input_path) as img:\n",
        "        blurred = img.filter(ImageFilter.GaussianBlur(5))\n",
        "        blurred.save(output_path)\n",
        "```\n",
        "\n",
        "### C++ Code\n",
        "Using Pybind11, we'll call the `apply_gaussian_blur` function from the Python script.\n",
        "\n",
        "```cpp\n",
        "#include <pybind11/pybind11.h>\n",
        "#include <pybind11/embed.h>\n",
        "\n",
        "namespace py = pybind11;\n",
        "\n",
        "int main() {\n",
        "    py::scoped_interpreter guard{};  // Initialize the Python interpreter\n",
        "\n",
        "    // Import the image_processing module\n",
        "    py::object image_processing = py::module_::import(\"image_processing\");\n",
        "\n",
        "    // Call the apply_gaussian_blur function\n",
        "    std::string input_path = \"path_to_input_image.jpg\";\n",
        "    std::string output_path = \"path_to_output_image.jpg\";\n",
        "    image_processing.attr(\"apply_gaussian_blur\")(input_path, output_path);\n",
        "\n",
        "    std::cout << \"Image processing complete!\" << std::endl;\n",
        "\n",
        "    return 0;\n",
        "}\n",
        "```\n",
        "\n",
        "### Explanation\n",
        "In the Python script, we define a function `apply_gaussian_blur` that takes an input image path, applies a Gaussian blur filter using the Pillow library, and saves the processed image to the specified output path.\n",
        "\n",
        "In the C++ code, we initialize the Python interpreter, import the `image_processing` module, and then directly call the `apply_gaussian_blur` function from C++, passing the paths to the input and output images.\n",
        "\n",
        "This method allows us to harness the simplicity and power of Python libraries while retaining the performance advantages of a C++ application. It's an ideal strategy when you want to integrate Python's specialized functionalities into a C++ project without compromising on speed and efficiency."
      ],
      "metadata": {
        "amin": {
          "cell_type": "markdown"
        }
      },
      "id": "ebb50f07-dc4e-42dd-9bbb-83443d12af63"
    },
    {
      "cell_type": "markdown",
      "source": [
        "## Real-World Scenario: Image Processing\n",
        "\n",
        "Let's consider a practical scenario where converting between Python and C++ types proves beneficial:\n",
        "\n",
        "### Scenario Description:\n",
        "\n",
        "Imagine having a C++ library that performs efficient image processing operations, and you wish to utilize this library within a Python application. The C++ library accepts an image (represented as a 2D array of pixel values) and applies a filter to it. However, in the Python application, the popular `numpy` library is used for image handling and manipulation.\n",
        "\n",
        "To bridge this gap, Pybind11 can be employed to convert `numpy` arrays to C++ arrays and vice versa. The steps involved are:\n",
        "\n",
        "1. **Python Side**: Utilize `numpy` for image loading and handling.\n",
        "2. **C++ Side**: Execute the image processing operation.\n",
        "3. **Python Side**: Display the processed image.\n",
        "\n",
        "Let's delve into the code example for this scenario."
      ],
      "metadata": {
        "amin": {
          "cell_type": "markdown"
        }
      },
      "id": "00a6ee22-9bc9-454d-b210-904a81487219"
    },
    {
      "cell_type": "markdown",
      "source": [
        "### C++ Code (image_processing.cpp):\n",
        "\n",
        "```cpp\n",
        "#include <pybind11/pybind11.h>\n",
        "#include <pybind11/numpy.h>\n",
        "\n",
        "namespace py = pybind11;\n",
        "\n",
        "// Simple image inversion filter\n",
        "py::array_t<int> invert_image(py::array_t<int> input_image) {\n",
        "    py::buffer_info buf_info = input_image.request();\n",
        "    auto ptr = static_cast<int *>(buf_info.ptr);\n",
        "\n",
        "    int X = buf_info.shape[0];\n",
        "    int Y = buf_info.shape[1];\n",
        "\n",
        "    // Create a new numpy array for the output\n",
        "    py::array_t<int> output_image = py::array_t<int>(buf_info.size);\n",
        "    py::buffer_info out_buf_info = output_image.request();\n",
        "    auto out_ptr = static_cast<int *>(out_buf_info.ptr);\n",
        "\n",
        "    // Invert the image\n",
        "    for (size_t idx = 0; idx < buf_info.size; idx++) {\n",
        "        out_ptr[idx] = 255 - ptr[idx];\n",
        "    }\n",
        "\n",
        "    output_image.resize({X, Y});\n",
        "\n",
        "    return output_image;\n",
        "}\n",
        "\n",
        "PYBIND11_MODULE(image_processing, m) {\n",
        "    m.def(\"invert_image\", &invert_image, \"Invert the input image\");\n",
        "}\n",
        "```\n",
        "\n",
        "#### Explanation:\n",
        "\n",
        "1. **C++ Side**:\n",
        "   - A function named `invert_image` is defined, which takes a `numpy` array (representing our image) as input.\n",
        "   - The buffer information of the `numpy` array is accessed to obtain the raw data and dimensions.\n",
        "   - A new `numpy` array is created for the output image.\n",
        "   - The image inversion operation is executed by subtracting each pixel value from 255.\n",
        "   - Finally, the inverted image is returned."
      ],
      "metadata": {
        "amin": {
          "cell_type": "markdown"
        }
      },
      "id": "5b913d10-aec7-44f4-8182-81097d0dc1ea"
    },
    {
      "cell_type": "markdown",
      "source": [
        "### Python Code:\n",
        "\n",
        "```python\n",
        "import numpy as np\n",
        "import matplotlib.pyplot as plt\n",
        "import image_processing  # Our C++ module\n",
        "\n",
        "# Load an image using numpy (for simplicity, let's use a grayscale image)\n",
        "image = np.array([[100, 150], [200, 50]])\n",
        "\n",
        "# Use our C++ function to invert the image\n",
        "inverted_image = image_processing.invert_image(image)\n",
        "\n",
        "# Display the original and inverted images\n",
        "plt.subplot(1, 2, 1)\n",
        "plt.imshow(image, cmap='gray')\n",
        "plt.title('Original Image')\n",
        "\n",
        "plt.subplot(1, 2, 2)\n",
        "plt.imshow(inverted_image, cmap='gray')\n",
        "plt.title('Inverted Image')\n",
        "\n",
        "plt.show()\n",
        "```\n",
        "\n",
        "#### Explanation:\n",
        "\n",
        "1. **Python Side**:\n",
        "   - A simple grayscale image is loaded using `numpy`.\n",
        "   - The C++ function `invert_image` is invoked to obtain the inverted image.\n",
        "   - Using `matplotlib`, the original and inverted images are displayed side by side.\n",
        "\n",
        "This example illustrates how Pybind11 facilitates the integration of efficient C++ operations (like image processing) into a Python workflow. The seamless conversion between Python and C++ types ensures smooth and efficient interoperability between the two languages."
      ],
      "metadata": {
        "amin": {
          "cell_type": "markdown"
        }
      },
      "id": "8285deae-bec1-4ae1-a4fa-b1d64c215292"
    }
  ],
  "metadata": {
    "amin-notebook": {
      "create_notebook": {
        "jupyter_notebook_conversation_id": "807b3ca4-4c92-5fcb-b3bd-1b08908d7510",
        "jupyter_notebook_ephemeral_user_id": "32812661-088a-510f-be67-66e33d6bfe55",
        "jupyter_notebook_subdivision1_iso_code": "CA-ON"
      }
    },
    "kernel_info": {
      "name": "python3"
    },
    "amin": {
      "last_transaction_id": "3a4d36db-79c9-42ba-b441-2f5bed8b48c1",
      "last_delta_id": "f10a532c-3095-41a9-8535-2b8d9f881d4c"
    },
    "kernelspec": {
      "display_name": "Python 3.9",
      "language": "python",
      "name": "python3"
    },
    "selected_hardware_size": "small",
    "nteract": {
      "version": "amin@2.9.0"
    }
  },
  "nbformat": 4,
  "nbformat_minor": 5
}