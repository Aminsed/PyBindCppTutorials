{
  "cells": [
    {
      "cell_type": "markdown",
      "source": [
        "## Installation Guide\n",
        "\n",
        "Before we dive into writing our first Pybind11 program, we need to ensure that Pybind11 is installed on our system. Pybind11 is a lightweight header-only library that exposes C++ types in Python and vice versa, mainly to create Python bindings of existing C++ code.\n",
        "\n",
        "### Prerequisites\n",
        "- A modern C++ compiler (C++11 support is required)\n",
        "- Python development headers\n",
        "- CMake (version 3.12 or newer)\n",
        "\n",
        "### Installation using pip\n",
        "The easiest way to install Pybind11 is using `pip`:\n",
        "```bash\n",
        "pip install pybind11\n",
        "```\n",
        "\n",
        "This will install the Pybind11 Python module as well as the C++ headers required for development."
      ],
      "metadata": {
        "amin": {
          "cell_type": "markdown"
        }
      },
      "id": "3f2f04c7-a9cc-4bea-93fd-5dd5a01f6a1c"
    },
    {
      "cell_type": "markdown",
      "source": [
        "## Your First Pybind11 Program\n",
        "\n",
        "Let's start by writing a simple C++ function that adds two numbers. We'll then use Pybind11 to expose this function to Python.\n",
        "\n",
        "Here's the C++ code for our function:\n",
        "```cpp\n",
        "#include <pybind11/pybind11.h>\n",
        "\n",
        "int add(int a, int b) {\n",
        "    return a + b;\n",
        "}\n",
        "\n",
        "PYBIND11_MODULE(example, m) {\n",
        "    m.def(\"add\", &add, \"A function which adds two numbers\");\n",
        "}\n",
        "```\n",
        "In the code above:\n",
        "- We include the `pybind11/pybind11.h` header.\n",
        "- We define a simple `add` function.\n",
        "- We create a Pybind11 module named `example` and expose the `add` function to Python with the name `add` and a brief description."
      ],
      "metadata": {
        "amin": {
          "cell_type": "markdown"
        }
      },
      "id": "a36f8eeb-335a-4e8f-8e6e-01d07929d821"
    },
    {
      "cell_type": "markdown",
      "source": [
        "## Compiling and Running Your Program\n",
        "\n",
        "To compile the C++ code and make it accessible from Python, we'll use CMake. Here are the steps to compile and run the program:\n",
        "\n",
        "1. **CMakeLists.txt**\n",
        "Create a `CMakeLists.txt` file with the following content:\n",
        "```cmake\n",
        "cmake_minimum_required(VERSION 3.12)\n",
        "project(example)\n",
        "\n",
        "find_package(pybind11 REQUIRED)\n",
        "\n",
        "add_library(example MODULE main.cpp)\n",
        "target_link_libraries(example PRIVATE pybind11::module)\n",
        "```\n",
        "In this file, we specify that we want to create a module named `example` from the source file `main.cpp` and link it with the Pybind11 library.\n",
        "\n",
        "2. **Compilation**\n",
        "Navigate to the directory containing your C++ code and `CMakeLists.txt`. Then run the following commands:\n",
        "```bash\n",
        "mkdir build\n",
        "cd build\n",
        "cmake ..\n",
        "make\n",
        "```\n",
        "This will generate a shared library named `example.cpython-<version>-<platform>.so` in the `build` directory.\n",
        "\n",
        "3. **Running the Program**\n",
        "Now, you can import the compiled module in Python and use the `add` function:\n",
        "```python\n",
        "import example\n",
        "result = example.add(3, 4)\n",
        "print(result)  # Outputs: 7\n",
        "```\n",
        "And that's it! You've successfully created a Python binding for a C++ function using Pybind11."
      ],
      "metadata": {
        "amin": {
          "cell_type": "markdown"
        }
      },
      "id": "31d1e7a6-ef14-432a-aa11-3687cd5d0cc2"
    }
  ],
  "metadata": {
    "amin-notebook": {
      "create_notebook": {
        "jupyter_notebook_conversation_id": "807b3ca4-4c92-5fcb-b3bd-1b08908d7510",
        "jupyter_notebook_ephemeral_user_id": "6f44b4bd-6a7e-5c97-9c33-7d43affdb717",
        "jupyter_notebook_subdivision1_iso_code": "CA-ON"
      }
    },
    "kernel_info": {
      "name": "python3"
    },
    "amin": {
      "last_transaction_id": "1e80ed1f-553d-4439-9dd3-ba9605fab08f",
      "last_delta_id": "43985c6d-e369-442e-b052-1cfbd179ad23"
    },
    "kernelspec": {
      "display_name": "Python 3.9",
      "language": "python",
      "name": "python3"
    },
    "selected_hardware_size": "small",
    "nteract": {
      "version": "amin@2.9.0"
    }
  },
  "nbformat": 4,
  "nbformat_minor": 5
}