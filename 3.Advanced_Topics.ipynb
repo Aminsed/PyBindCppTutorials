{
  "cells": [
    {
      "cell_type": "markdown",
      "source": [
        "# Advanced Topics\n",
        "\n",
        "In this notebook, we will explore some advanced topics in `pybind11`, a lightweight header-only library that exposes C++ types in Python and vice versa. The topics covered include:\n",
        "\n",
        "1. **Inheritance**: How to expose C++ class hierarchies to Python.\n",
        "2. **Polymorphism**: Understanding how `pybind11` handles dynamic dispatch.\n",
        "3. **Exception Handling**: Translating C++ exceptions to Python exceptions and vice versa.\n",
        "4. **Multithreading**: Using `pybind11` in multi-threaded C++ applications.\n",
        "\n",
        "For each topic, we will provide code examples and explanations to ensure a comprehensive understanding."
      ],
      "metadata": {
        "amin": {
          "cell_type": "markdown"
        }
      },
      "id": "aca7f32d-8d9b-4bc7-9da5-aa81e2a5b90f"
    },
    {
      "cell_type": "markdown",
      "source": [
        "## Inheritance\n",
        "\n",
        "Let's consider a simple example where we have a base class `Animal` and a derived class `Dog`. We want to expose both of these classes to Python using `pybind11`.\n",
        "\n",
        "```cpp\n",
        "#include <pybind11/pybind11.h>\n",
        "\n",
        "class Animal {\n",
        "public:\n",
        "    Animal(const std::string &name) : name(name) {}\n",
        "    virtual std::string sound() const { return \"Unknown\"; }\n",
        "protected:\n",
        "    std::string name;\n",
        "};\n",
        "\n",
        "class Dog : public Animal {\n",
        "public:\n",
        "    Dog(const std::string &name) : Animal(name) {}\n",
        "    std::string sound() const override { return \"Woof!\"; }\n",
        "};\n",
        "\n",
        "PYBIND11_MODULE(example, m) {\n",
        "    pybind11::class_<Animal>(m, \"Animal\")\n",
        "        .def(pybind11::init<const std::string &>())\n",
        "        .def(\"sound\", &Animal::sound);\n",
        "\n",
        "    pybind11::class_<Dog, Animal>(m, \"Dog\")\n",
        "        .def(pybind11::init<const std::string &>())\n",
        "        .def(\"sound\", &Dog::sound);\n",
        "}\n",
        "```\n",
        "\n",
        "In the code above, we first define the base class `Animal` and the derived class `Dog`. The `PYBIND11_MODULE` macro is used to create a Python module. Within this module, we use the `pybind11::class_` template to bind the `Animal` and `Dog` classes. Notice how the derived class `Dog` is specified to inherit from `Animal` in the `pybind11::class_` template."
      ],
      "metadata": {
        "amin": {
          "cell_type": "markdown"
        }
      },
      "id": "463f8e5b-03aa-4527-b1de-fba9f9bc814b"
    },
    {
      "cell_type": "markdown",
      "source": [
        "## Polymorphism\n",
        "\n",
        "Consider the previous `Animal` and `Dog` classes. The `sound` method in the `Animal` class is a virtual function, which is overridden in the `Dog` class. This allows for polymorphic behavior.\n",
        "\n",
        "When we bind these classes using `pybind11`, the library ensures that the correct overridden method is called, even when accessed through a base class pointer or reference.\n",
        "\n",
        "```cpp\n",
        "Animal *get_animal() {\n",
        "    return new Dog(\"Buddy\");\n",
        "}\n",
        "\n",
        "PYBIND11_MODULE(example, m) {\n",
        "    // ... previous bindings ...\n",
        "\n",
        "    m.def(\"get_animal\", &get_animal, pybind11::return_value_policy::take_ownership);\n",
        "}\n",
        "```\n",
        "\n",
        "In the Python side, when we call `get_animal().sound()`, it will correctly return `\"Woof!\"`, demonstrating that `pybind11` is correctly handling the dynamic dispatch of the virtual function."
      ],
      "metadata": {
        "amin": {
          "cell_type": "markdown"
        }
      },
      "id": "628f9524-b0f1-4059-85c0-64f4ede9ac90"
    },
    {
      "cell_type": "markdown",
      "source": [
        "## Exception Handling\n",
        "\n",
        "Let's consider a simple function in C++ that throws a standard exception:\n",
        "\n",
        "```cpp\n",
        "#include <pybind11/pybind11.h>\n",
        "#include <stdexcept>\n",
        "\n",
        "void throw_exception() {\n",
        "    throw std::runtime_error(\"An error occurred!\");\n",
        "}\n",
        "\n",
        "PYBIND11_MODULE(example, m) {\n",
        "    m.def(\"throw_exception\", &throw_exception);\n",
        "}\n",
        "```\n",
        "\n",
        "When this function is called from Python, `pybind11` will catch the C++ exception and translate it into a Python `RuntimeError` exception with the same error message. This allows Python code to catch and handle the exception using standard Python `try`-`except` blocks.\n",
        "\n",
        "Similarly, `pybind11` can translate Python exceptions into C++ exceptions when calling Python functions from C++."
      ],
      "metadata": {
        "amin": {
          "cell_type": "markdown"
        }
      },
      "id": "f9123e88-6bde-4ef7-a229-2cd56737a07c"
    },
    {
      "cell_type": "markdown",
      "source": [
        "## Multithreading\n",
        "\n",
        "Consider a scenario where we want to run a C++ function in a separate thread and periodically update a Python object with the results.\n",
        "\n",
        "```cpp\n",
        "#include <pybind11/pybind11.h>\n",
        "#include <thread>\n",
        "\n",
        "void threaded_function(pybind11::object callback) {\n",
        "    for (int i = 0; i < 5; ++i) {\n",
        "        std::this_thread::sleep_for(std::chrono::seconds(1));\n",
        "        // Acquire GIL before calling Python code\n",
        "        pybind11::gil_scoped_acquire acquire;\n",
        "        callback(i);\n",
        "    }\n",
        "}\n",
        "\n",
        "PYBIND11_MODULE(example, m) {\n",
        "    m.def(\"threaded_function\", &threaded_function);\n",
        "}\n",
        "```\n",
        "\n",
        "In the code above, before calling the Python `callback` function, we acquire the GIL using `pybind11::gil_scoped_acquire`. This ensures that the Python callback is executed safely, even though it's being called from a separate C++ thread. When the `gil_scoped_acquire` object goes out of scope, the GIL is automatically released, allowing other threads to execute Python code."
      ],
      "metadata": {
        "amin": {
          "cell_type": "markdown"
        }
      },
      "id": "bfaf54cd-9073-4096-86ca-6b9e8ebf86d4"
    },
    {
      "cell_type": "markdown",
      "source": [
        "## In-depth Inheritance with Pybind11\n",
        "\n",
        "Inheritance is a cornerstone of object-oriented programming, allowing for the creation of a new class that is based on an existing class. The new class inherits attributes and behaviors from the existing class. In C++, this is achieved using base and derived classes.\n",
        "\n",
        "When exposing C++ classes to Python using `pybind11`, it's essential to ensure that the inheritance hierarchy is correctly represented in the Python bindings. This allows Python to understand and utilize the class hierarchy just as if it were defined in Python itself.\n",
        "\n",
        "Let's delve deeper into this with a comprehensive example."
      ],
      "metadata": {
        "amin": {
          "cell_type": "markdown"
        }
      },
      "id": "ce56ca8f-c663-4907-8213-af132ff437ba"
    },
    {
      "cell_type": "markdown",
      "source": [
        "### C++ Definitions and Pybind11 Bindings\n",
        "\n",
        "```cpp\n",
        "#include <pybind11/pybind11.h>\n",
        "\n",
        "class Vehicle {\n",
        "public:\n",
        "    Vehicle(const std::string &brand, double speed) : brand(brand), speed(speed) {}\n",
        "    virtual std::string move() const { return \"The vehicle moves.\"; }\n",
        "protected:\n",
        "    std::string brand;\n",
        "    double speed;\n",
        "};\n",
        "\n",
        "class Car : public Vehicle {\n",
        "public:\n",
        "    Car(const std::string &brand, double speed, int wheels) : Vehicle(brand, speed), wheels(wheels) {}\n",
        "    std::string move() const override { return \"The car drives on roads.\"; }\n",
        "private:\n",
        "    int wheels;\n",
        "};\n",
        "\n",
        "class ElectricCar : public Car {\n",
        "public:\n",
        "    ElectricCar(const std::string &brand, double speed, int wheels, double battery_capacity) : Car(brand, speed, wheels), battery_capacity(battery_capacity) {}\n",
        "    std::string move() const override { return \"The electric car drives silently on roads.\"; }\n",
        "private:\n",
        "    double battery_capacity;\n",
        "};\n",
        "\n",
        "class Boat : public Vehicle {\n",
        "public:\n",
        "    Boat(const std::string &brand, double speed, int propellers) : Vehicle(brand, speed), propellers(propellers) {}\n",
        "    std::string move() const override { return \"The boat sails on water.\"; }\n",
        "private:\n",
        "    int propellers;\n",
        "};\n",
        "\n",
        "PYBIND11_MODULE(vehicles, m) {\n",
        "    pybind11::class_<Vehicle>(m, \"Vehicle\")\n",
        "        .def(pybind11::init<const std::string &, double>())\n",
        "        .def(\"move\", &Vehicle::move);\n",
        "\n",
        "    pybind11::class_<Car, Vehicle>(m, \"Car\")\n",
        "        .def(pybind11::init<const std::string &, double, int>())\n",
        "        .def(\"move\", &Car::move);\n",
        "\n",
        "    pybind11::class_<ElectricCar, Car>(m, \"ElectricCar\")\n",
        "        .def(pybind11::init<const std::string &, double, int, double>())\n",
        "        .def(\"move\", &ElectricCar::move);\n",
        "\n",
        "    pybind11::class_<Boat, Vehicle>(m, \"Boat\")\n",
        "        .def(pybind11::init<const std::string &, double, int>())\n",
        "        .def(\"move\", &Boat::move);\n",
        "}\n",
        "```\n",
        "\n",
        "In the code above, we've defined our classes and their inheritance hierarchy. We then use `pybind11` to expose these classes to Python. Notice how the derived classes are specified to inherit from their respective base classes in the `pybind11::class_` template."
      ],
      "metadata": {
        "amin": {
          "cell_type": "markdown"
        }
      },
      "id": "2094a809-ba8d-4eda-bd31-7a2e35e978d8"
    },
    {
      "cell_type": "markdown",
      "source": [
        "### Python Usage with Inherited Classes\n",
        "\n",
        "Once the C++ classes are exposed to Python using `pybind11`, we can seamlessly use them in Python as if they were native Python classes.\n",
        "\n",
        "```python\n",
        "# Import the vehicles module (assuming it's compiled and available)\n",
        "import vehicles\n",
        "\n",
        "# Create an instance of each class\n",
        "v = vehicles.Vehicle(\"Generic\", 50)\n",
        "c = vehicles.Car(\"Toyota\", 120, 4)\n",
        "e = vehicles.ElectricCar(\"Tesla\", 150, 4, 100)\n",
        "b = vehicles.Boat(\"Yacht\", 30, 2)\n",
        "\n",
        "# Call the move method for each instance\n",
        "print(v.move())  # Output: The vehicle moves.\n",
        "print(c.move())  # Output: The car drives on roads.\n",
        "print(e.move())  # Output: The electric car drives silently on roads.\n",
        "print(b.move())  # Output: The boat sails on water.\n",
        "```\n",
        "\n",
        "### Explanation:\n",
        "\n",
        "1. **Vehicle Class**: This is the base class with attributes `brand` and `speed`. It has a virtual method `move()` that returns a generic movement message.\n",
        "\n",
        "2. **Car Class**: Derived from `Vehicle`, it introduces an additional attribute `wheels` and overrides the `move()` method to provide a car-specific movement message.\n",
        "\n",
        "3. **ElectricCar Class**: Derived from `Car`, it introduces an attribute `battery_capacity` and further overrides the `move()` method to provide a message specific to electric cars.\n",
        "\n",
        "4. **Boat Class**: Derived from `Vehicle`, it introduces an attribute `propellers` and overrides the `move()` method to provide a boat-specific movement message.\n",
        "\n",
        "When we create instances of these classes in Python and call their `move()` methods, the correct overridden method is called due to the dynamic dispatch mechanism, giving us the expected output.\n",
        "\n",
        "The beauty of `pybind11` is that it allows us to work with C++ classes in Python as if they were native Python classes, respecting inheritance, polymorphism, and other OOP principles."
      ],
      "metadata": {
        "amin": {
          "cell_type": "markdown"
        }
      },
      "id": "928141c1-bd47-474b-b9aa-c669bec3341c"
    },
    {
      "cell_type": "markdown",
      "source": [
        "## In-depth Polymorphism with Pybind11\n",
        "\n",
        "Polymorphism, derived from the Greek words 'poly' (many) and 'morph' (form), is a fundamental concept in object-oriented programming that allows objects of different classes to be treated as if they were objects of a common superclass. The most common use of polymorphism is when a parent class reference is used to refer to a child class object.\n",
        "\n",
        "In C++, polymorphism is achieved using virtual functions, which can be overridden in derived classes. When integrating C++ with Python using `pybind11`, it's essential to ensure that polymorphic behavior is correctly represented in the Python bindings.\n",
        "\n",
        "Let's delve deeper into this with a comprehensive example."
      ],
      "metadata": {
        "amin": {
          "cell_type": "markdown"
        }
      },
      "id": "b915421e-0e66-4653-b096-d178ec0b66bc"
    },
    {
      "cell_type": "markdown",
      "source": [
        "### C++ Definitions and Pybind11 Bindings for Polymorphism\n",
        "\n",
        "```cpp\n",
        "#include <pybind11/pybind11.h>\n",
        "#include <cmath> // for M_PI\n",
        "\n",
        "class Shape {\n",
        "public:\n",
        "    virtual double area() const { return 0.0; }\n",
        "};\n",
        "\n",
        "class Circle : public Shape {\n",
        "public:\n",
        "    Circle(double radius) : radius(radius) {}\n",
        "    double area() const override { return M_PI * radius * radius; }\n",
        "private:\n",
        "    double radius;\n",
        "};\n",
        "\n",
        "class Rectangle : public Shape {\n",
        "public:\n",
        "    Rectangle(double width, double height) : width(width), height(height) {}\n",
        "    double area() const override { return width * height; }\n",
        "private:\n",
        "    double width, height;\n",
        "};\n",
        "\n",
        "PYBIND11_MODULE(shapes, m) {\n",
        "    pybind11::class_<Shape>(m, \"Shape\")\n",
        "        .def(\"area\", &Shape::area);\n",
        "\n",
        "    pybind11::class_<Circle, Shape>(m, \"Circle\")\n",
        "        .def(pybind11::init<double>())\n",
        "        .def(\"area\", &Circle::area);\n",
        "\n",
        "    pybind11::class_<Rectangle, Shape>(m, \"Rectangle\")\n",
        "        .def(pybind11::init<double, double>())\n",
        "        .def(\"area\", &Rectangle::area);\n",
        "}\n",
        "```\n",
        "\n",
        "In the code above, we've defined our `Shape`, `Circle`, and `Rectangle` classes. The `Shape` class has a virtual method `area()`, which is overridden in both the `Circle` and `Rectangle` derived classes. We then use `pybind11` to expose these classes to Python. Notice how the derived classes are specified to inherit from the `Shape` base class in the `pybind11::class_` template."
      ],
      "metadata": {
        "amin": {
          "cell_type": "markdown"
        }
      },
      "id": "37e33bab-901d-411a-b617-a76e257b27ac"
    },
    {
      "cell_type": "markdown",
      "source": [
        "### Python Usage with Polymorphic Classes\n",
        "\n",
        "Once the C++ classes are exposed to Python using `pybind11`, we can utilize the power of polymorphism seamlessly in Python.\n",
        "\n",
        "```python\n",
        "# Import the shapes module (assuming it's compiled and available)\n",
        "import shapes\n",
        "\n",
        "# Create an instance of each class\n",
        "circle = shapes.Circle(5)\n",
        "rectangle = shapes.Rectangle(4, 6)\n",
        "\n",
        "# Use a function to demonstrate polymorphism\n",
        "def print_area(shape):\n",
        "    print(f\"Area of the shape: {shape.area()}\")\n",
        "\n",
        "# Call the function with different shapes\n",
        "print_area(circle)  # Output: Area of the shape: 78.53981633974483\n",
        "print_area(rectangle)  # Output: Area of the shape: 24.0\n",
        "```\n",
        "\n",
        "### Explanation:\n",
        "\n",
        "1. **Shape Class**: This is the base class with a virtual method `area()` that returns the area of the shape. By default, it returns `0.0`.\n",
        "\n",
        "2. **Circle Class**: Derived from `Shape`, it introduces an attribute `radius` and overrides the `area()` method to calculate the area of the circle using the formula \\( \\pi r^2 \\).\n",
        "\n",
        "3. **Rectangle Class**: Derived from `Shape`, it introduces attributes `width` and `height` and overrides the `area()` method to calculate the area of the rectangle using the formula \\( width \\times height \\).\n",
        "\n",
        "The function `print_area` demonstrates polymorphism. It accepts a `Shape` reference and calls the `area()` method. Depending on the actual object passed to the function, the appropriate `area()` method is called, demonstrating dynamic dispatch.\n",
        "\n",
        "This behavior showcases the power of polymorphism, where a single function can operate on different types of objects, and the correct method is determined at runtime."
      ],
      "metadata": {
        "amin": {
          "cell_type": "markdown"
        }
      },
      "id": "2500aa36-11ea-43d5-b655-b43301e454e1"
    },
    {
      "cell_type": "markdown",
      "source": [
        "## In-depth Exception Handling with Pybind11\n",
        "\n",
        "Exception handling is a crucial aspect of any programming language, allowing developers to manage and respond to runtime errors gracefully. In C++, exceptions are handled using the `try`, `catch`, and `throw` keywords. When integrating C++ with Python using `pybind11`, it's essential to ensure that C++ exceptions are correctly translated into Python exceptions and vice versa.\n",
        "\n",
        "`pybind11` provides built-in support for translating C++ exceptions into Python exceptions and back. This ensures that when a C++ function throws an exception, it can be caught and handled in Python, and similarly, a Python exception can be caught and handled in C++.\n",
        "\n",
        "Let's delve deeper into this with a comprehensive example."
      ],
      "metadata": {
        "amin": {
          "cell_type": "markdown"
        }
      },
      "id": "ee4569ee-5a3e-417d-883a-9ed569519e9b"
    },
    {
      "cell_type": "markdown",
      "source": [
        "### C++ Definitions and Pybind11 Bindings for Exception Handling\n",
        "\n",
        "```cpp\n",
        "#include <pybind11/pybind11.h>\n",
        "\n",
        "double divide(double numerator, double denominator) {\n",
        "    if (denominator == 0.0) {\n",
        "        throw std::runtime_error(\"Division by zero!\");\n",
        "    }\n",
        "    return numerator / denominator;\n",
        "}\n",
        "\n",
        "PYBIND11_MODULE(math_operations, m) {\n",
        "    m.def(\"divide\", &divide);\n",
        "}\n",
        "```\n",
        "\n",
        "In the code above, we've defined a `divide` function that throws a `std::runtime_error` exception if the denominator is zero. We then use `pybind11` to expose this function to Python. When this function is called from Python with a denominator of zero, it will raise a Python `RuntimeError` exception with the message \"Division by zero!\"."
      ],
      "metadata": {
        "amin": {
          "cell_type": "markdown"
        }
      },
      "id": "b37b5d95-e36c-4014-b90e-961c2e3c093e"
    },
    {
      "cell_type": "markdown",
      "source": [
        "### Python Usage with Exception Handling\n",
        "\n",
        "Once the C++ function is exposed to Python using `pybind11`, we can handle exceptions in Python just as we would with native Python functions.\n",
        "\n",
        "```python\n",
        "# Import the math_operations module (assuming it's compiled and available)\n",
        "import math_operations\n",
        "\n",
        "# Use the divide function\n",
        "try:\n",
        "    result = math_operations.divide(10, 0)\n",
        "    print(result)\n",
        "except RuntimeError as e:\n",
        "    print(f\"Caught an exception: {e}\")\n",
        "\n",
        "# Output: Caught an exception: Division by zero!\n",
        "```\n",
        "\n",
        "### Explanation:\n",
        "\n",
        "1. **divide Function**: This function takes two arguments, the numerator and the denominator. If the denominator is zero, it throws a `std::runtime_error` exception.\n",
        "\n",
        "2. **Exception Handling in Python**: When calling the `divide` function from Python, we wrap the call in a `try` block. If the function throws an exception (in this case, due to division by zero), the exception is caught in the `except` block. The C++ exception `std::runtime_error` is automatically translated to a Python `RuntimeError` by `pybind11`.\n",
        "\n",
        "3. **Output**: The Python code catches the exception and prints the error message \"Division by zero!\".\n",
        "\n",
        "This example showcases how `pybind11` seamlessly translates C++ exceptions into Python exceptions, allowing for consistent and intuitive error handling across both languages."
      ],
      "metadata": {
        "amin": {
          "cell_type": "markdown"
        }
      },
      "id": "0ad30f0f-32dc-44c7-a098-4b56b99fbdb9"
    },
    {
      "cell_type": "markdown",
      "source": [
        "## In-depth Multithreading with Pybind11\n",
        "\n",
        "Multithreading is a powerful technique that allows a program to run multiple threads concurrently, potentially improving performance and responsiveness. In C++, the `<thread>` header provides functionalities to manage threads. When integrating C++ with Python using `pybind11`, it's essential to be aware of the Global Interpreter Lock (GIL) in Python, which prevents multiple native threads from executing Python bytecodes at once.\n",
        "\n",
        "However, `pybind11` provides utilities to work around the GIL, allowing C++ threads to run concurrently while ensuring that only one thread interacts with the Python interpreter at a time.\n",
        "\n",
        "Let's delve deeper into this with a comprehensive example."
      ],
      "metadata": {
        "amin": {
          "cell_type": "markdown"
        }
      },
      "id": "b8668783-94a4-4ecb-b1ce-2a3110472455"
    },
    {
      "cell_type": "markdown",
      "source": [
        "### C++ Definitions and Pybind11 Bindings for Multithreading\n",
        "\n",
        "```cpp\n",
        "#include <pybind11/pybind11.h>\n",
        "#include <pybind11/stl.h>\n",
        "#include <thread>\n",
        "#include <vector>\n",
        "\n",
        "double compute_sum(const std::vector<double>& numbers) {\n",
        "    double sum = 0.0;\n",
        "    for (double num : numbers) {\n",
        "        sum += num;\n",
        "    }\n",
        "    return sum;\n",
        "}\n",
        "\n",
        "double parallel_sum(const std::vector<double>& numbers, int num_threads) {\n",
        "    int chunk_size = numbers.size() / num_threads;\n",
        "    std::vector<std::thread> threads;\n",
        "    std::vector<double> results(num_threads);\n",
        "\n",
        "    for (int i = 0; i < num_threads; ++i) {\n",
        "        threads.emplace_back([&, i]() {\n",
        "            results[i] = compute_sum(std::vector<double>(numbers.begin() + i * chunk_size, numbers.begin() + (i + 1) * chunk_size));\n",
        "        });\n",
        "    }\n",
        "\n",
        "    for (auto& t : threads) {\n",
        "        t.join();\n",
        "    }\n",
        "\n",
        "    return compute_sum(results);\n",
        "}\n",
        "\n",
        "PYBIND11_MODULE(threading_example, m) {\n",
        "    m.def(\"parallel_sum\", &parallel_sum, \"Compute the sum of a list of numbers using multiple threads.\");\n",
        "}\n",
        "```\n",
        "\n",
        "In the code above, we've defined a `compute_sum` function that calculates the sum of a list of numbers. We also have a `parallel_sum` function that splits the list into smaller chunks and processes each chunk in a separate thread. We then use `pybind11` to expose the `parallel_sum` function to Python. This function will allow us to leverage the power of multithreading from Python, even though the actual computation is done in C++."
      ],
      "metadata": {
        "amin": {
          "cell_type": "markdown"
        }
      },
      "id": "a6476d63-dde2-46d1-b7cd-c5c8bdbaa6dc"
    },
    {
      "cell_type": "markdown",
      "source": [
        "### Python Usage with Multithreading\n",
        "\n",
        "Once the C++ function is exposed to Python using `pybind11`, we can leverage the power of multithreading directly from Python.\n",
        "\n",
        "```python\n",
        "# Import the threading_example module (assuming it's compiled and available)\n",
        "import threading_example\n",
        "\n",
        "# Generate a large list of numbers\n",
        "numbers = [i * 0.5 for i in range(1, 100001)]\n",
        "\n",
        "# Use the parallel_sum function with 4 threads\n",
        "result = threading_example.parallel_sum(numbers, 4)\n",
        "print(f\"Sum of numbers: {result}\")\n",
        "\n",
        "# Expected Output: Sum of numbers: 2500025000.0\n",
        "```\n",
        "\n",
        "### Explanation:\n",
        "\n",
        "1. **compute_sum Function**: This function calculates the sum of a list of numbers sequentially.\n",
        "\n",
        "2. **parallel_sum Function**: This function splits the list of numbers into smaller chunks based on the number of threads specified. Each chunk is then processed in a separate thread using the `compute_sum` function. Once all threads have completed their computation, the results are aggregated to produce the final sum.\n",
        "\n",
        "3. **Python Usage**: In the Python code, we generate a large list of numbers and then use the `parallel_sum` function to compute their sum using 4 threads. The result is then printed.\n",
        "\n",
        "This example showcases how `pybind11` allows us to leverage the power of multithreading in C++ from Python. The actual computation is done in C++, but the Python code can control the number of threads and access the result seamlessly."
      ],
      "metadata": {
        "amin": {
          "cell_type": "markdown"
        }
      },
      "id": "5a5fc6ef-8749-46e0-935b-4efb430bb75b"
    },
    {
      "cell_type": "markdown",
      "source": [
        "## Combining Multithreading and Exception Handling with Pybind11\n",
        "\n",
        "When combining multithreading with exception handling, it's crucial to ensure that exceptions thrown in a thread are captured and handled appropriately. This can be a bit tricky since exceptions thrown in one thread cannot be caught in another. However, with some careful design, we can propagate exceptions from worker threads back to the main thread.\n",
        "\n",
        "Let's consider an example where we compute the inverse of a list of numbers in parallel. If any number in the list is zero, computing its inverse would result in a division by zero error. We want to capture this exception and handle it gracefully.\n",
        "\n",
        "We will:\n",
        "\n",
        "1. Define the C++ function that computes the inverse of numbers in parallel and handles exceptions.\n",
        "2. Expose it to Python using `pybind11`.\n",
        "3. Demonstrate its usage in Python.\n",
        "4. Provide a detailed explanation.\n",
        "\n",
        "Let's start by defining and exposing the function."
      ],
      "metadata": {
        "amin": {
          "cell_type": "markdown"
        }
      },
      "id": "bd029972-66a2-465d-a616-5c1a91193c22"
    },
    {
      "cell_type": "markdown",
      "source": [
        "## Combining Multithreading with Exception Handling\n",
        "\n",
        "When working with multithreading, it's crucial to handle exceptions correctly to ensure that errors in one thread don't crash the entire application or leave it in an inconsistent state. Combining multithreading with exception handling can be challenging, but it's essential for robust and resilient applications.\n",
        "\n",
        "Let's consider an example where we compute the reciprocal of a list of numbers using multiple threads. If any number in the list is zero, computing its reciprocal will result in a division by zero error. We'll handle this exception and ensure that the program continues to process the remaining numbers.\n",
        "\n",
        "### Example:\n",
        "\n",
        "We have a function `parallel_reciprocal` that takes a list of numbers and returns a list containing the reciprocal of each number. The function splits the list into smaller chunks and processes each chunk in a separate thread. If a division by zero error occurs in any thread, it's caught, and the result for that number is set to `inf` (infinity).\n",
        "\n",
        "Let's start by defining and exposing the function."
      ],
      "metadata": {
        "amin": {
          "cell_type": "markdown"
        }
      },
      "id": "f313e584-9fd9-49c5-9f3a-6f4d62e52873"
    },
    {
      "cell_type": "markdown",
      "source": [
        "### C++ Definitions and Pybind11 Bindings for Multithreading with Exception Handling\n",
        "\n",
        "```cpp\n",
        "#include <pybind11/pybind11.h>\n",
        "#include <pybind11/stl.h>\n",
        "#include <thread>\n",
        "#include <vector>\n",
        "#include <stdexcept>\n",
        "\n",
        "// Function to compute the reciprocal of a number\n",
        "double reciprocal(double number) {\n",
        "    if (number == 0.0) {\n",
        "        throw std::runtime_error(\"Division by zero!\");\n",
        "    }\n",
        "    return 1.0 / number;\n",
        "}\n",
        "\n",
        "// Function to compute the reciprocal of a list of numbers using multiple threads\n",
        "std::vector<double> parallel_reciprocal(const std::vector<double>& numbers, int num_threads) {\n",
        "    int chunk_size = numbers.size() / num_threads;\n",
        "    std::vector<std::thread> threads;\n",
        "    std::vector<double> results(numbers.size());\n",
        "\n",
        "    for (int i = 0; i < num_threads; ++i) {\n",
        "        threads.emplace_back([&, i]() {\n",
        "            for (int j = i * chunk_size; j < (i + 1) * chunk_size && j < numbers.size(); ++j) {\n",
        "                try {\n",
        "                    results[j] = reciprocal(numbers[j]);\n",
        "                } catch (const std::runtime_error&) {\n",
        "                    results[j] = std::numeric_limits<double>::infinity();\n",
        "                }\n",
        "            }\n",
        "        });\n",
        "    }\n",
        "\n",
        "    for (auto& t : threads) {\n",
        "        t.join();\n",
        "    }\n",
        "\n",
        "    return results;\n",
        "}\n",
        "\n",
        "PYBIND11_MODULE(threading_exceptions_example, m) {\n",
        "    m.def(\"parallel_reciprocal\", &parallel_reciprocal, \"Compute the reciprocal of a list of numbers using multiple threads and handle exceptions.\");\n",
        "}\n",
        "```\n",
        "\n",
        "In the code above:\n",
        "\n",
        "- The `reciprocal` function computes the reciprocal of a number. If the number is zero, it throws a `std::runtime_error` exception.\n",
        "- The `parallel_reciprocal` function splits the list of numbers into smaller chunks and processes each chunk in a separate thread. If a division by zero error occurs in any thread, the exception is caught, and the result for that number is set to `inf` (infinity).\n",
        "- We then use `pybind11` to expose the `parallel_reciprocal` function to Python."
      ],
      "metadata": {
        "amin": {
          "cell_type": "markdown"
        }
      },
      "id": "dd4acfc8-0f71-47de-8a99-1218cbd4865e"
    },
    {
      "cell_type": "markdown",
      "source": [
        "### Python Usage with Multithreading and Exception Handling\n",
        "\n",
        "Once the C++ function is exposed to Python using `pybind11`, we can use it to compute the reciprocals of numbers, even if the list contains zero, and handle exceptions gracefully.\n",
        "\n",
        "```python\n",
        "# Import the threading_exceptions_example module (assuming it's compiled and available)\n",
        "import threading_exceptions_example\n",
        "\n",
        "# List of numbers including zero\n",
        "numbers = [1.0, 2.0, 0.0, 4.0, 5.0]\n",
        "\n",
        "# Use the parallel_reciprocal function with 3 threads\n",
        "results = threading_exceptions_example.parallel_reciprocal(numbers, 3)\n",
        "print(f\"Reciprocals: {results}\")\n",
        "\n",
        "# Expected Output: Reciprocals: [1.0, 0.5, inf, 0.25, 0.2]\n",
        "```\n",
        "\n",
        "### Explanation:\n",
        "\n",
        "1. **reciprocal Function**: This function computes the reciprocal of a number. If the number is zero, it throws a `std::runtime_error` exception indicating a division by zero error.\n",
        "\n",
        "2. **parallel_reciprocal Function**: This function splits the list of numbers into smaller chunks and processes each chunk in a separate thread. If a division by zero error occurs in any thread (i.e., when computing the reciprocal of zero), the exception is caught, and the result for that number is set to `inf` (infinity).\n",
        "\n",
        "3. **Python Usage**: In the Python code, we have a list of numbers that includes zero. We use the `parallel_reciprocal` function to compute the reciprocals of these numbers using 3 threads. The result is then printed. As expected, the reciprocal of zero is represented as `inf`.\n",
        "\n",
        "This example demonstrates how `pybind11` allows us to combine multithreading with exception handling. The actual computation and exception handling are done in C++, but the Python code can control the number of threads and access the results seamlessly."
      ],
      "metadata": {
        "amin": {
          "cell_type": "markdown"
        }
      },
      "id": "2540bd1c-9986-49b6-9457-118876c23aa9"
    }
  ],
  "metadata": {
    "amin-notebook": {
      "create_notebook": {
        "openai_conversation_id": "807b3ca4-4c92-5fcb-b3bd-1b08908d7510",
        "openai_ephemeral_user_id": "8b7206e7-0491-5b34-930d-bd28bc9b40ab",
        "openai_subdivision1_iso_code": "CA-ON"
      }
    },
    "kernel_info": {
      "name": "python3"
    },
    "amin": {
      "last_transaction_id": "6298ad31-099c-43a7-991a-413b038e0a99",
      "last_delta_id": "4f0b21a0-2586-4d39-8ce1-adba531a97bb"
    },
    "kernelspec": {
      "display_name": "Python 3.9",
      "language": "python",
      "name": "python3"
    },
    "selected_hardware_size": "small",
    "nteract": {
      "version": "amin@2.9.0"
    }
  },
  "nbformat": 4,
  "nbformat_minor": 5
}