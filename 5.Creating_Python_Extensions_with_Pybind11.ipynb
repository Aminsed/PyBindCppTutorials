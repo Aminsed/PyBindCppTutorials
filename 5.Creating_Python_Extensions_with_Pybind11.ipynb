{
  "cells": [
    {
      "cell_type": "markdown",
      "source": [
        "## Writing a Python Extension using C++\n",
        "\n",
        "Pybind11 is a lightweight header-only library that exposes C++ types in Python and vice versa, mainly to create Python bindings of existing C++ code. The primary goal of this library is to minimize the amount of effort required to expose C++ classes and functions to Python. Here's how you can write a Python extension using C++ with the help of Pybind11."
      ],
      "metadata": {
        "noteable": {
          "cell_type": "markdown"
        }
      },
      "id": "930d0c5f-9fda-4cbf-89fd-820170ba3d82"
    },
    {
      "cell_type": "markdown",
      "source": [
        "### Example: Binding a Simple Function\n",
        "\n",
        "Let's start with a basic example where we will bind a simple C++ function to Python using Pybind11.\n",
        "\n",
        "C++ Code (`example.cpp`):\n",
        "```cpp\n",
        "#include <pybind11/pybind11.h>\n",
        "\n",
        "int add(int a, int b) {\n",
        "    return a + b;\n",
        "}\n",
        "\n",
        "PYBIND11_MODULE(example, m) {\n",
        "    m.def(\"add\", &add, \"A function which adds two numbers\");\n",
        "}\n",
        "```\n",
        "In the above code, we have a simple function `add` that takes two integers and returns their sum. We then use the `PYBIND11_MODULE` macro to create a Python module named `example` and bind the `add` function to it."
      ],
      "metadata": {
        "noteable": {
          "cell_type": "markdown"
        }
      },
      "id": "084a9011-1af6-421a-aa1d-5ecd4a553e5a"
    },
    {
      "cell_type": "markdown",
      "source": [
        "## Compiling and Installing the Extension\n",
        "\n",
        "Once you have written the C++ code to create the Python extension, the next step is to compile and install the extension. This can be achieved using a `setup.py` script and the `setuptools` library.\n",
        "\n",
        "Here's an example `setup.py` script for our `example` module:\n",
        "```python\n",
        "from setuptools import setup, Extension\n",
        "import pybind11\n",
        "\n",
        "example_module = Extension(\n",
        "    'example',\n",
        "    sources=['example.cpp'],\n",
        "    include_dirs=[pybind11.get_include()],\n",
        "    language='c++'\n",
        ")\n",
        "\n",
        "setup(\n",
        "    name='example',\n",
        "    version='0.1',\n",
        "    description='Python package with C++ extension',\n",
        "    ext_modules=[example_module],\n",
        ")\n",
        "```\n",
        "To compile and install the extension, you can run the following commands:\n",
        "```\n",
        "pip install pybind11\n",
        "python setup.py build_ext --inplace\n",
        "```\n",
        "This will generate a shared library (`.so` or `.pyd` file) that can be imported directly into Python."
      ],
      "metadata": {
        "noteable": {
          "cell_type": "markdown"
        }
      },
      "id": "a4a78648-a3b8-4907-9008-f5965ec44f5e"
    },
    {
      "cell_type": "markdown",
      "source": [
        "## Utilizing the Extension in Python\n",
        "\n",
        "After compiling and installing the extension, you can import and use it in Python just like any other Python module.\n",
        "\n",
        "Here's how you can use the `example` module we created earlier:\n",
        "```python\n",
        "import example\n",
        "\n",
        "result = example.add(3, 4)\n",
        "print(result)  # Outputs: 7\n",
        "```\n",
        "In the above code, we import the `example` module and call the `add` function, which is a C++ function that we bound to Python using Pybind11. This demonstrates the seamless integration of C++ code into Python using Pybind11."
      ],
      "metadata": {
        "noteable": {
          "cell_type": "markdown"
        }
      },
      "id": "e0c3f5b8-5326-4b03-aaa8-fbde4103a77c"
    },
    {
      "cell_type": "markdown",
      "source": [
        "## Detailed Example: Binding a C++ Class\n",
        "\n",
        "Let's delve deeper by creating a C++ class and binding it to Python using Pybind11. This will give you a better understanding of how to expose more complex C++ structures to Python.\n",
        "\n",
        "### C++ Class: `Pet`\n",
        "\n",
        "For this example, we'll create a simple `Pet` class with some attributes and methods."
      ],
      "metadata": {
        "noteable": {
          "cell_type": "markdown"
        }
      },
      "id": "4e1a5c79-34eb-425e-b803-ea8fd7745297"
    },
    {
      "cell_type": "markdown",
      "source": [
        "C++ Code (`pet.cpp`):\n",
        "```cpp\n",
        "#include <pybind11/pybind11.h>\n",
        "#include <string>\n",
        "\n",
        "class Pet {\n",
        "public:\n",
        "    Pet(const std::string &name) : name(name) {}\n",
        "    void setName(const std::string &name_) { name = name_; }\n",
        "    const std::string &getName() const { return name; }\n",
        "\n",
        "private:\n",
        "    std::string name;\n",
        "};\n",
        "\n",
        "PYBIND11_MODULE(pet, m) {\n",
        "    pybind11::class_<Pet>(m, \"Pet\")\n",
        "        .def(pybind11::init<const std::string &>())\n",
        "        .def(\"setName\", &Pet::setName)\n",
        "        .def(\"getName\", &Pet::getName);\n",
        "}\n",
        "```\n",
        "In the above code, we have a `Pet` class with a private attribute `name` and methods to set and get the name. We then use the `PYBIND11_MODULE` macro to create a Python module named `pet` and bind the `Pet` class to it. The `pybind11::class_` template is used to expose the C++ class to Python."
      ],
      "metadata": {
        "noteable": {
          "cell_type": "markdown"
        }
      },
      "id": "5ad8168a-ad68-4d78-919c-9bbfb81c7b9b"
    },
    {
      "cell_type": "markdown",
      "source": [
        "### Compiling and Installing the `Pet` Extension\n",
        "\n",
        "Similar to our previous example, we'll need a `setup.py` script to compile and install the `Pet` extension.\n",
        "\n",
        "`setup.py` script for the `pet` module:\n",
        "```python\n",
        "from setuptools import setup, Extension\n",
        "import pybind11\n",
        "\n",
        "pet_module = Extension(\n",
        "    'pet',\n",
        "    sources=['pet.cpp'],\n",
        "    include_dirs=[pybind11.get_include()],\n",
        "    language='c++'\n",
        ")\n",
        "\n",
        "setup(\n",
        "    name='pet',\n",
        "    version='0.1',\n",
        "    description='Python package with C++ Pet class extension',\n",
        "    ext_modules=[pet_module],\n",
        ")\n",
        "```\n",
        "To compile and install the `Pet` extension, run:\n",
        "```\n",
        "pip install pybind11\n",
        "python setup.py build_ext --inplace\n",
        "```\n",
        "After this, you'll have a shared library that you can import into Python."
      ],
      "metadata": {
        "noteable": {
          "cell_type": "markdown"
        }
      },
      "id": "86dc9a7a-78e7-4ec5-b88b-de1b85a62719"
    },
    {
      "cell_type": "markdown",
      "source": [
        "### Using the `Pet` Extension in Python\n",
        "\n",
        "Once you've compiled and installed the `Pet` extension, you can use it in Python as follows:\n",
        "\n",
        "```python\n",
        "import pet\n",
        "\n",
        "# Create a Pet object\n",
        "my_pet = pet.Pet(\"Buddy\")\n",
        "\n",
        "# Get the name of the pet\n",
        "print(my_pet.getName())  # Outputs: Buddy\n",
        "\n",
        "# Set a new name for the pet\n",
        "my_pet.setName(\"Charlie\")\n",
        "print(my_pet.getName())  # Outputs: Charlie\n",
        "```\n",
        "In this example, we've created an instance of the `Pet` class, set its name, and retrieved the name using the methods we defined in C++ and exposed to Python using Pybind11."
      ],
      "metadata": {
        "noteable": {
          "cell_type": "markdown"
        }
      },
      "id": "c14df5f0-1300-44a7-b905-aec1d91a30b7"
    }
  ],
  "metadata": {
    "noteable-chatgpt": {
      "create_notebook": {
        "openai_conversation_id": "9707cff5-7655-5a27-8323-2e9f01f84958",
        "openai_ephemeral_user_id": "b902249c-6d02-5202-8c53-212138e9a76e",
        "openai_subdivision1_iso_code": "CA-ON"
      }
    },
    "kernel_info": {
      "name": "python3"
    },
    "kernelspec": {
      "display_name": "Python 3.9",
      "language": "python",
      "name": "python3"
    },
    "selected_hardware_size": "small",
    "noteable": {
      "last_delta_id": "fffeacf4-2254-4d95-aebc-e484e1fe321d"
    },
    "nteract": {
      "version": "noteable@2.9.0"
    }
  },
  "nbformat": 4,
  "nbformat_minor": 5
}