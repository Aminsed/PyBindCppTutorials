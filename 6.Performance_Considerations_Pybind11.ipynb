{
  "cells": [
    {
      "cell_type": "markdown",
      "source": [
        "# Performance Considerations with Pybind11\n",
        "When integrating Python with C++ using Pybind11, performance is often a primary concern. This notebook will guide you through various aspects of performance considerations when using Pybind11:\n",
        "1. **When to Use Pybind11**\n",
        "2. **Performance Tips and Tricks**\n",
        "3. **Benchmarking Your Code**\n",
        "Let's dive in!"
      ],
      "metadata": {
        "noteable": {
          "cell_type": "markdown"
        }
      },
      "id": "d82a27da-9c24-4383-bfa3-da90da39926c"
    },
    {
      "cell_type": "markdown",
      "source": [
        "## 1. When to Use Pybind11\n",
        "Pybind11 is a powerful tool that allows seamless integration between Python and C++. But when should you consider using it? Here are some scenarios:\n",
        "- **Performance Critical Sections**: If a particular section of your Python code is becoming a bottleneck, consider rewriting that section in C++ and using Pybind11 to call it from Python.\n",
        "- **Existing C++ Libraries**: If you have existing C++ code or libraries that you want to use in Python, Pybind11 can be a great way to expose those functionalities to Python without rewriting them.\n",
        "- **Low-Level System Operations**: C++ provides more direct access to system resources and hardware. If you need to perform low-level operations, C++ combined with Pybind11 can be beneficial.\n",
        "- **Type Safety**: If you want the benefits of strong type checking that C++ offers, you can write your core logic in C++ and use Pybind11 to integrate with Python.\n",
        "However, it's essential to note that introducing C++ into your Python project adds complexity. It's crucial to weigh the benefits against the added complexity and maintenance overhead."
      ],
      "metadata": {
        "noteable": {
          "cell_type": "markdown"
        }
      },
      "id": "e413a05d-7094-42f0-9ab0-1d5f8c4e8502"
    },
    {
      "cell_type": "markdown",
      "source": [
        "## 2. Performance Tips and Tricks\n",
        "Once you've decided to use Pybind11, there are several tips and tricks to ensure you get the best performance out of your integration:\n",
        "- **Pass by Reference**: When passing large data structures between Python and C++, try to pass them by reference to avoid unnecessary copying.\n",
        "- **Avoid Dynamic Memory Allocation**: Dynamic memory allocation can be slow. Wherever possible, allocate memory statically or on the stack.\n",
        "- **Use Native C++ Data Structures**: Instead of converting Python data structures to C++ and vice versa, try to use native C++ data structures in your C++ code.\n",
        "- **Release the GIL**: If your C++ code doesn't need to interact with Python objects, consider releasing the Global Interpreter Lock (GIL) to allow other Python threads to run concurrently.\n",
        "- **Optimize C++ Code**: Before integrating with Python, ensure that your C++ code is optimized. Use profiling tools to identify and fix bottlenecks in the C++ code.\n",
        "Let's see a simple example of how to release the GIL when calling a C++ function from Python using Pybind11."
      ],
      "metadata": {
        "noteable": {
          "cell_type": "markdown"
        }
      },
      "id": "3ba43d62-f022-479a-a4e7-c70a83360fc2"
    },
    {
      "cell_type": "code",
      "source": [
        "```cpp\n",
        "#include <pybind11/pybind11.h>\n",
        "#include <pybind11/numpy.h>\n",
        "#include <thread>\n",
        "#include <chrono>\n",
        "\n",
        "namespace py = pybind11;\n",
        "\n",
        "void long_computation() {\n",
        "    std::this_thread::sleep_for(std::chrono::seconds(5));\n",
        "}\n",
        "\n",
        "PYBIND11_MODULE(example, m) {\n",
        "    m.def(\"long_computation\", &long_computation, py::call_guard<py::gil_scoped_release>());\n",
        "}\n",
        "```\n",
        "In the above code, we define a simple C++ function `long_computation` that simulates a long-running operation. We then expose this function to Python using Pybind11. The key here is the `py::call_guard<py::gil_scoped_release>()` argument, which ensures that the GIL is released when the C++ function is called from Python."
      ],
      "outputs": [],
      "execution_count": null,
      "metadata": {
        "noteable": {
          "cell_type": "code"
        }
      },
      "id": "18d10340-9784-4881-8bc1-ea73c89f9f70"
    },
    {
      "cell_type": "markdown",
      "source": [
        "## 3. Benchmarking Your Code\n",
        "Benchmarking is crucial to ensure that the performance gains you expect from integrating C++ with Python are realized. Here are some steps and tools you can use to benchmark your code:\n",
        "- **Use Python's `time` Module**: The simplest way to measure the execution time of your code is by using Python's built-in `time` module.\n",
        "- **Profiling Tools**: Tools like `gprof` for C++ and `cProfile` for Python can give you detailed insights into which parts of your code are taking the most time.\n",
        "- **Comparison with Pure Python**: Before and after integrating with C++, run benchmarks on the pure Python version of your code. This will give you a clear idea of the performance gains.\n",
        "- **Memory Profiling**: Tools like `Valgrind` for C++ and `memory-profiler` for Python can help you identify memory bottlenecks and leaks.\n",
        "Let's see a simple example of how to benchmark a function using Python's `time` module."
      ],
      "metadata": {
        "noteable": {
          "cell_type": "markdown"
        }
      },
      "id": "c9f5df2d-9827-47dd-899b-2528e9a1e5e9"
    },
    {
      "cell_type": "code",
      "source": [
        "import time\n",
        "\n",
        "def python_function():\n",
        "    # Simulate some computation\n",
        "    result = 0\n",
        "    for i in range(1000000):\n",
        "        result += i\n",
        "    return result\n",
        "\n",
        "# Benchmark the function\n",
        "start_time = time.time()\n",
        "python_function()\n",
        "end_time = time.time()\n",
        "\n",
        "print(f\"Function execution time: {end_time - start_time} seconds\")"
      ],
      "outputs": [],
      "execution_count": null,
      "metadata": {
        "noteable": {
          "cell_type": "code"
        }
      },
      "id": "d8e71083-28f9-4f5a-9841-082c31d27bc6"
    },
    {
      "cell_type": "markdown",
      "source": [
        "### Deep Dive: Pass by Reference\n",
        "When integrating Python with C++ using Pybind11, one of the common performance bottlenecks is the unnecessary copying of data between Python and C++. This is especially true for large data structures. One way to mitigate this is to pass data by reference rather than by value.\n",
        "Passing by reference means that instead of creating a new copy of the data, you pass a reference (or pointer) to the original data. This can significantly speed up the data transfer between Python and C++ as no copying is involved.\n",
        "Let's look at an end-to-end example to understand this better."
      ],
      "metadata": {
        "noteable": {
          "cell_type": "markdown"
        }
      },
      "id": "2fe94f7f-2670-471f-bde8-db47ac35fb8d"
    },
    {
      "cell_type": "code",
      "source": [
        "```cpp\n",
        "#include <pybind11/pybind11.h>\n",
        "#include <pybind11/numpy.h>\n",
        "\n",
        "namespace py = pybind11;\n",
        "\n",
        "void modify_array(py::array_t<double>& input_array) {\n",
        "    py::buffer_info buf_info = input_array.request();\n",
        "    double *ptr = static_cast<double *>(buf_info.ptr);\n",
        "\n",
        "    // Modify the array in-place\n",
        "    for (size_t i = 0; i < buf_info.size; i++) {\n",
        "        ptr[i] = ptr[i] * 2.0;\n",
        "    }\n",
        "}\n",
        "\n",
        "PYBIND11_MODULE(example_module, m) {\n",
        "    m.def(\"modify_array\", &modify_array);\n",
        "}\n",
        "```\n",
        "In the above C++ code, we define a function `modify_array` that takes a numpy array as an argument by reference. The function then modifies the array in-place by doubling each element. Since we're passing the array by reference, no copying is involved, and the changes are reflected in the original Python array.\n",
        "To compile the above C++ code, you can use the following instructions:"
      ],
      "outputs": [],
      "execution_count": null,
      "metadata": {
        "noteable": {
          "cell_type": "code"
        }
      },
      "id": "a67f642c-c806-4f94-a7b8-8e58068f1bcf"
    },
    {
      "cell_type": "code",
      "source": [
        "```bash\n",
        "# First, ensure you have pybind11 installed. You can install it using pip:\n",
        "pip install pybind11\n",
        "# Next, compile the C++ code using the following command:\n",
        "c++ -O3 -Wall -shared -std=c++11 -fPIC `python3 -m pybind11 --includes` your_cpp_file.cpp -o example_module`python3-config --extension-suffix`\n",
        "```\n",
        "Replace `your_cpp_file.cpp` with the name of your C++ file. This will produce a shared library named `example_module.so` (or `.pyd` on Windows) that you can import in Python.\n",
        "Now, let's see how to use this module in Python."
      ],
      "outputs": [],
      "execution_count": null,
      "metadata": {
        "noteable": {
          "cell_type": "code"
        }
      },
      "id": "27cac02b-2569-48e6-960a-686deea76fc9"
    },
    {
      "cell_type": "code",
      "source": [
        "```python\n",
        "import numpy as np\n",
        "import example_module\n",
        "\n",
        "# Create a numpy array\n",
        "arr = np.array([1.0, 2.0, 3.0, 4.0])\n",
        "print(\"Original array:\", arr)\n",
        "\n",
        "# Call the C++ function to modify the array in-place\n",
        "example_module.modify_array(arr)\n",
        "print(\"Modified array:\", arr)\n",
        "```\n",
        "When you run the above Python code, you'll notice that the original array is modified in-place by the C++ function, demonstrating the pass-by-reference mechanism."
      ],
      "outputs": [],
      "execution_count": null,
      "metadata": {
        "noteable": {
          "cell_type": "code"
        }
      },
      "id": "36a12812-803e-451c-a97a-45ad4dbabd94"
    },
    {
      "cell_type": "markdown",
      "source": [
        "### Deep Dive: Avoid Dynamic Memory Allocation\n",
        "Dynamic memory allocation refers to the process of allocating memory during program runtime. In C++, this is typically done using the `new` and `delete` operators or functions like `malloc` and `free`. While dynamic memory allocation provides flexibility, it can also introduce overhead and potential performance bottlenecks, especially when done frequently.\n",
        "In performance-critical applications, it's often beneficial to avoid dynamic memory allocation or minimize its use. Instead, you can use stack allocation or static memory allocation, which are typically faster.\n",
        "Let's explore this concept with an end-to-end example."
      ],
      "metadata": {
        "noteable": {
          "cell_type": "markdown"
        }
      },
      "id": "269e87b9-c78a-4559-9b45-0a54366a4221"
    },
    {
      "cell_type": "code",
      "source": [
        "```cpp\n",
        "#include <pybind11/pybind11.h>\n",
        "\n",
        "namespace py = pybind11;\n",
        "\n",
        "// Using dynamic memory allocation\n",
        "int sum_dynamic(int n) {\n",
        "    int* arr = new int[n];\n",
        "    int sum = 0;\n",
        "    for (int i = 0; i < n; i++) {\n",
        "        arr[i] = i;\n",
        "        sum += arr[i];\n",
        "    }\n",
        "    delete[] arr;\n",
        "    return sum;\n",
        "}\n",
        "\n",
        "// Using stack memory allocation\n",
        "int sum_stack() {\n",
        "    int arr[1000];\n",
        "    int sum = 0;\n",
        "    for (int i = 0; i < 1000; i++) {\n",
        "        arr[i] = i;\n",
        "        sum += arr[i];\n",
        "    }\n",
        "    return sum;\n",
        "}\n",
        "\n",
        "PYBIND11_MODULE(memory_module, m) {\n",
        "    m.def(\"sum_dynamic\", &sum_dynamic);\n",
        "    m.def(\"sum_stack\", &sum_stack);\n",
        "}\n",
        "```\n",
        "In the above C++ code, we have two functions: `sum_dynamic` and `sum_stack`. The `sum_dynamic` function uses dynamic memory allocation to create an array, while the `sum_stack` function uses stack memory allocation. The stack allocation is faster but has a limitation on the size of the array.\n",
        "To compile the above C++ code, you can use the following instructions:"
      ],
      "outputs": [],
      "execution_count": null,
      "metadata": {
        "noteable": {
          "cell_type": "code"
        }
      },
      "id": "8bd35c1d-2876-4095-a4d8-4211dae2a661"
    },
    {
      "cell_type": "code",
      "source": [
        "```bash\n",
        "# First, ensure you have pybind11 installed. You can install it using pip:\n",
        "pip install pybind11\n",
        "# Next, compile the C++ code using the following command:\n",
        "c++ -O3 -Wall -shared -std=c++11 -fPIC `python3 -m pybind11 --includes` your_cpp_file.cpp -o memory_module`python3-config --extension-suffix`\n",
        "```\n",
        "Replace `your_cpp_file.cpp` with the name of your C++ file. This will produce a shared library named `memory_module.so` (or `.pyd` on Windows) that you can import in Python.\n",
        "Now, let's see how to use this module in Python."
      ],
      "outputs": [],
      "execution_count": null,
      "metadata": {
        "noteable": {
          "cell_type": "code"
        }
      },
      "id": "af9cb362-b7f1-4a80-83a5-b7d22915dcf8"
    },
    {
      "cell_type": "code",
      "source": [
        "```python\n",
        "import memory_module\n",
        "\n",
        "# Using dynamic memory allocation\n",
        "print(\"Sum using dynamic memory allocation:\", memory_module.sum_dynamic(1000))\n",
        "\n",
        "# Using stack memory allocation\n",
        "print(\"Sum using stack memory allocation:\", memory_module.sum_stack())\n",
        "```\n",
        "When you run the above Python code, you'll notice that both functions return the same result. However, the function using stack memory allocation (`sum_stack`) is expected to be faster than the one using dynamic memory allocation (`sum_dynamic`), especially for larger array sizes."
      ],
      "outputs": [],
      "execution_count": null,
      "metadata": {
        "noteable": {
          "cell_type": "code"
        }
      },
      "id": "c549f147-82c3-4396-9790-23b11bd9916d"
    },
    {
      "cell_type": "markdown",
      "source": [
        "### Deep Dive: Use Native C++ Data Structures\n",
        "When integrating Python with C++, it's tempting to convert Python data structures to their C++ counterparts and vice versa. However, this conversion can introduce overhead, especially when dealing with large data structures. To optimize performance, it's often beneficial to use native C++ data structures in your C++ code and minimize the conversion between Python and C++ data structures.\n",
        "Using native C++ data structures can lead to faster execution times, especially when performing operations that are optimized for these structures. Moreover, many C++ libraries and algorithms are designed to work with native C++ data structures, so using them can provide additional benefits.\n",
        "Let's explore this concept with an end-to-end example."
      ],
      "metadata": {
        "noteable": {
          "cell_type": "markdown"
        }
      },
      "id": "341df600-76cc-4373-bffc-3fd827b319a8"
    },
    {
      "cell_type": "code",
      "source": [
        "```cpp\n",
        "#include <pybind11/pybind11.h>\n",
        "#include <vector>\n",
        "\n",
        "namespace py = pybind11;\n",
        "\n",
        "// Function that takes a native C++ vector and returns its sum\n",
        "double sum_vector(const std::vector<double>& vec) {\n",
        "    double sum = 0.0;\n",
        "    for (const auto& val : vec) {\n",
        "        sum += val;\n",
        "    }\n",
        "    return sum;\n",
        "}\n",
        "\n",
        "PYBIND11_MODULE(data_module, m) {\n",
        "    m.def(\"sum_vector\", &sum_vector);\n",
        "}\n",
        "```\n",
        "In the above C++ code, we define a function `sum_vector` that takes a native C++ `std::vector` as an argument and returns the sum of its elements. By using the native C++ `std::vector`, we avoid the overhead of converting between Python lists and C++ vectors.\n",
        "To compile the above C++ code, you can use the following instructions:"
      ],
      "outputs": [],
      "execution_count": null,
      "metadata": {
        "noteable": {
          "cell_type": "code"
        }
      },
      "id": "6d200487-576c-4d9b-91f7-2290e3289071"
    },
    {
      "cell_type": "code",
      "source": [
        "```bash\n",
        "# First, ensure you have pybind11 installed. You can install it using pip:\n",
        "pip install pybind11\n",
        "# Next, compile the C++ code using the following command:\n",
        "c++ -O3 -Wall -shared -std=c++11 -fPIC `python3 -m pybind11 --includes` your_cpp_file.cpp -o data_module`python3-config --extension-suffix`\n",
        "```\n",
        "Replace `your_cpp_file.cpp` with the name of your C++ file. This will produce a shared library named `data_module.so` (or `.pyd` on Windows) that you can import in Python.\n",
        "Now, let's see how to use this module in Python."
      ],
      "outputs": [],
      "execution_count": null,
      "metadata": {
        "noteable": {
          "cell_type": "code"
        }
      },
      "id": "3fd08d55-0ebb-4c67-bc6a-635d0ba65fe5"
    },
    {
      "cell_type": "code",
      "source": [
        "```python\n",
        "import data_module\n",
        "\n",
        "# Create a list in Python\n",
        "data_list = [1.0, 2.0, 3.0, 4.0, 5.0]\n",
        "\n",
        "# Use the C++ function to compute the sum\n",
        "result = data_module.sum_vector(data_list)\n",
        "print(\"Sum of the vector:\", result)\n",
        "```\n",
        "When you run the above Python code, the list `data_list` is automatically converted to a C++ `std::vector` when passed to the `sum_vector` function. The result is then computed using the native C++ data structure and returned to Python."
      ],
      "outputs": [],
      "execution_count": null,
      "metadata": {
        "noteable": {
          "cell_type": "code"
        }
      },
      "id": "e739a2ff-3701-42fa-9002-a32d26253f09"
    },
    {
      "cell_type": "markdown",
      "source": [
        "## Conclusion and Summary\n",
        "In this notebook, we delved deep into performance considerations when using Pybind11 to integrate Python with C++:\n",
        "1. **When to Use Pybind11**: We discussed scenarios where Pybind11 can be beneficial, especially when there's a need to leverage the performance of C++ in Python applications or to wrap existing C++ libraries for Python usage.\n",
        "2. **Performance Tips and Tricks**:\n",
        "   - **Pass by Reference**: We emphasized the importance of passing data by reference to avoid unnecessary copying between Python and C++, especially for large data structures. An end-to-end example demonstrated how to modify a numpy array in-place using Pybind11.\n",
        "   - **Avoid Dynamic Memory Allocation**: We highlighted the potential overhead of dynamic memory allocation and showcased how using stack or static memory allocation can lead to performance gains. The provided example contrasted the use of dynamic memory allocation with stack allocation in a sum computation.\n",
        "   - **Use Native C++ Data Structures**: We underscored the advantages of using native C++ data structures to minimize conversion overhead between Python and C++ data structures. An example showcased the automatic conversion of a Python list to a C++ `std::vector` for efficient computation.\n",
        "3. **Benchmarking Your Code**: We touched upon the importance of benchmarking to measure the performance improvements achieved by integrating C++ code into Python applications.\n",
        "Incorporating C++ into Python applications using Pybind11 can lead to significant performance improvements, especially for compute-intensive tasks. However, it's crucial to be aware of potential pitfalls and best practices to ensure that the integration is both seamless and efficient.\n",
        "We hope this guide serves as a valuable resource for those looking to harness the power of C++ in their Python applications using Pybind11. Happy coding!"
      ],
      "metadata": {
        "noteable": {
          "cell_type": "markdown"
        }
      },
      "id": "2c669a1c-6ba1-4b4a-9813-ff47d8eb4c09"
    }
  ],
  "metadata": {
    "noteable-chatgpt": {
      "create_notebook": {
        "openai_conversation_id": "807b3ca4-4c92-5fcb-b3bd-1b08908d7510",
        "openai_ephemeral_user_id": "b902249c-6d02-5202-8c53-212138e9a76e",
        "openai_subdivision1_iso_code": "CA-ON"
      }
    },
    "kernel_info": {
      "name": "python3"
    },
    "kernelspec": {
      "name": "python3",
      "display_name": "Python 3.9",
      "language": "python"
    },
    "selected_hardware_size": "small",
    "noteable": {
      "last_delta_id": "6b06a9e9-c7d8-49a7-8123-2261f3dfd4f4"
    },
    "nteract": {
      "version": "noteable@2.9.0"
    }
  },
  "nbformat": 4,
  "nbformat_minor": 5
}