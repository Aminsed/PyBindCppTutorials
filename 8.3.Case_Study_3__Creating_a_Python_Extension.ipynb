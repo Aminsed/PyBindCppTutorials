{
  "cells": [
    {
      "cell_type": "markdown",
      "id": "a508cb36-a066-4a7a-afbf-817ae09e7892",
      "metadata": {
        "noteable": {
          "cell_type": "markdown"
        }
      },
      "source": [
        "# Creating a Python Library in C++ using Pybind11\n",
        "In this notebook, we will explore how to create a Python library using C++ with the help of Pybind11. Pybind11 is a lightweight header-only library that exposes C++ types in Python and vice versa, mainly to create Python bindings of existing C++ code.\n",
        "The process involves the following steps:\n",
        "1. Writing the C++ code that we want to expose to Python.\n",
        "2. Creating Python bindings using Pybind11.\n",
        "3. Compiling and building the shared library.\n",
        "4. Importing and using the library in Python.\n",
        "Let's dive into each step!"
      ]
    },
    {
      "cell_type": "markdown",
      "id": "974229a7-a5b1-4f8d-a21b-08e572b36187",
      "metadata": {
        "noteable": {
          "cell_type": "markdown"
        }
      },
      "source": [
        "## 1. Writing the C++ Code\n",
        "For demonstration purposes, let's create a simple C++ class named `Calculator` that can perform basic arithmetic operations like addition and subtraction.\n",
        "Here's the C++ code for our `Calculator` class:"
      ]
    },
    {
      "cell_type": "code",
      "execution_count": null,
      "id": "dd23b914-3b99-451f-89d1-bba5785f5670",
      "metadata": {
        "noteable": {
          "cell_type": "code"
        }
      },
      "outputs": [],
      "source": [
        "```cpp\n",
        "#include <iostream>\n",
        "class Calculator {\n",
        "public:\n",
        "    Calculator() {}\n",
        "    double add(double a, double b) {\n",
        "        return a + b;\n",
        "    }\n",
        "    double subtract(double a, double b) {\n",
        "        return a - b;\n",
        "    }\n",
        "};\n",
        "```"
      ]
    },
    {
      "cell_type": "markdown",
      "id": "d422d85d-2b3e-4d78-848e-d2d21227b424",
      "metadata": {
        "noteable": {
          "cell_type": "markdown"
        }
      },
      "source": [
        "## 2. Creating Python Bindings using Pybind11\n",
        "To expose our C++ `Calculator` class to Python, we need to create Python bindings using Pybind11. This involves defining a special function called `PYBIND11_MODULE` where we specify which parts of our C++ code we want to expose to Python.\n",
        "Here's how we can create the bindings for our `Calculator` class:"
      ]
    },
    {
      "cell_type": "code",
      "execution_count": null,
      "id": "ae0f2703-4830-4c88-8b8e-7e71b7696459",
      "metadata": {
        "noteable": {
          "cell_type": "code"
        }
      },
      "outputs": [],
      "source": [
        "```cpp\n",
        "#include <pybind11/pybind11.h>\n",
        "namespace py = pybind11;\n",
        "PYBIND11_MODULE(calculator, m) {\n",
        "    m.doc() = \"Python module created using pybind11\";\n",
        "    py::class_<Calculator>(m, \"Calculator\")\n",
        "        .def(py::init<>())\n",
        "        .def(\"add\", &Calculator::add)\n",
        "        .def(\"subtract\", &Calculator::subtract);\n",
        "}\n",
        "```"
      ]
    },
    {
      "cell_type": "markdown",
      "id": "8b543031-3ee2-42b1-9747-4f4e1ca3f946",
      "metadata": {
        "noteable": {
          "cell_type": "markdown"
        }
      },
      "source": [
        "## 3. Compiling and Building the Shared Library\n",
        "Once we have our C++ code and the Python bindings ready, the next step is to compile and build the shared library that can be imported in Python. This involves using a build system like `CMake` and a compiler like `g++`.\n",
        "Here's a basic outline of the steps involved:\n",
        "1. Install `pybind11` and other necessary tools.\n",
        "2. Write a `CMakeLists.txt` file to specify the build instructions.\n",
        "3. Use `CMake` to generate the build system and then compile the code.\n",
        "For the sake of brevity, we won't go into the detailed steps here, but you can refer to the official [Pybind11 documentation](https://pybind11.readthedocs.io/en/stable/compiling.html) for a comprehensive guide on compiling and building."
      ]
    },
    {
      "cell_type": "markdown",
      "id": "1cca0dab-d65f-4982-8b5a-d0b9b6493e07",
      "metadata": {
        "noteable": {
          "cell_type": "markdown"
        }
      },
      "source": [
        "## 4. Importing and Using the Library in Python\n",
        "Once the shared library is built, you can import it in Python just like any other Python module. Let's assume our shared library is named `calculator.so` (or `calculator.pyd` on Windows). Here's how you can import and use it in Python:"
      ]
    },
    {
      "cell_type": "code",
      "execution_count": null,
      "id": "b4636fc1-1d94-47f7-a45a-cad41a827cea",
      "metadata": {
        "noteable": {
          "cell_type": "code"
        }
      },
      "outputs": [],
      "source": [
        "```python\n",
        "# Import the Calculator class from the shared library\n",
        "from calculator import Calculator\n",
        "# Create an instance of the Calculator class\n",
        "calc = Calculator()\n",
        "# Use the add and subtract methods\n",
        "result_add = calc.add(5, 3)\n",
        "result_sub = calc.subtract(5, 3)\n",
        "print(f\"Addition: {result_add}\")\n",
        "print(f\"Subtraction: {result_sub}\")\n",
        "```"
      ]
    }
  ],
  "metadata": {
    "kernel_info": {
      "name": "python3"
    },
    "kernelspec": {
      "display_name": "Python 3.9",
      "language": "python",
      "name": "python3"
    },
    "noteable": {
      "last_delta_id": "bdd0ab33-115b-4179-b293-c672878e91b3"
    },
    "noteable-chatgpt": {
      "create_notebook": {
        "openai_conversation_id": "68d9a9de-0b27-50db-87ca-69be08b9fc6a",
        "openai_ephemeral_user_id": "232154c8-f72a-5876-975e-aac66a230a6f",
        "openai_subdivision1_iso_code": "CA-ON"
      }
    },
    "nteract": {
      "version": "noteable@2.9.0"
    },
    "selected_hardware_size": "small"
  },
  "nbformat": 4,
  "nbformat_minor": 5
}
