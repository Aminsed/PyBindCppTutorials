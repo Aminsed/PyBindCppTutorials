{
  "cells": [
    {
      "cell_type": "markdown",
      "source": [
        "# Basic Concepts\n",
        "\n",
        "Pybind11 is a lightweight header-only library that exposes C++ types in Python and vice versa, mainly to create Python bindings of existing C++ code. In this tutorial, we will explore the basics of Pybind11, focusing on the following topics:\n",
        "1. Exposing Functions\n",
        "2. Exposing Classes\n",
        "3. Working with Namespaces\n",
        "Let's dive in!"
      ],
      "metadata": {
        "noteable": {
          "cell_type": "markdown"
        }
      },
      "id": "916be87c-be5a-460b-981d-93278bcc5530"
    },
    {
      "cell_type": "markdown",
      "source": [
        "## Exposing Functions\n",
        "To expose a C++ function to Python using Pybind11, follow these steps:\n",
        "1. **Include the necessary Pybind11 headers**:\n",
        "```cpp\n",
        "#include <pybind11/pybind11.h>\n",
        "```\n",
        "2. **Create a function in C++**. For example:\n",
        "```cpp\n",
        "int add(int a, int b) {\n",
        "    return a + b;\n",
        "}\n",
        "```\n",
        "3. **Use the `PYBIND11_MODULE` macro to create a module and define the function binding within it**:\n",
        "```cpp\n",
        "namespace py = pybind11;\n",
        "PYBIND11_MODULE(example, m) {\n",
        "    m.def(\"add\", &add, \"A function that adds two numbers\");\n",
        "}\n",
        "```\n",
        "With the above code, you can now import the `example` module in Python and call the `add` function."
      ],
      "metadata": {
        "noteable": {
          "cell_type": "markdown"
        }
      },
      "id": "bae78ca6-1ca4-466f-9a77-5bd836f62ac0"
    },
    {
      "cell_type": "markdown",
      "source": [
        "## Exposing Classes\n",
        "To expose a C++ class to Python using Pybind11, follow these steps:\n",
        "1. **Include the necessary Pybind11 headers**:\n",
        "```cpp\n",
        "#include <pybind11/pybind11.h>\n",
        "```\n",
        "2. **Define a C++ class**. For example:\n",
        "```cpp\n",
        "class Pet {\n",
        "private:\n",
        "    std::string name;\n",
        "public:\n",
        "    Pet(const std::string &name) : name(name) {}\n",
        "    const std::string &getName() const { return name; }\n",
        "    void setName(const std::string &name) { this->name = name; }\n",
        "}\n",
        "```\n",
        "3. **Use the `PYBIND11_MODULE` macro to create a module and define the class binding within it**:\n",
        "```cpp\n",
        "namespace py = pybind11;\n",
        "PYBIND11_MODULE(example, m) {\n",
        "    py::class_<Pet>(m, \"Pet\")\n",
        "        .def(py::init<const std::string &>())\n",
        "        .def(\"getName\", &Pet::getName)\n",
        "        .def(\"setName\", &Pet::setName);\n",
        "}\n",
        "```\n",
        "With the above code, you can now import the `example` module in Python, instantiate the `Pet` class, and access its methods."
      ],
      "metadata": {
        "noteable": {
          "cell_type": "markdown"
        }
      },
      "id": "e767e287-8db5-44c0-9074-7c5f473a9816"
    },
    {
      "cell_type": "markdown",
      "source": [
        "## Working with Namespaces\n",
        "Namespaces in C++ help in organizing code and avoiding name collisions. When binding C++ code to Python using Pybind11, namespaces can be represented as Python sub-modules. Here's how to do it:\n",
        "1. **Include the necessary Pybind11 headers**:\n",
        "```cpp\n",
        "#include <pybind11/pybind11.h>\n",
        "```\n",
        "2. **Define functions or classes within a namespace in C++**. For example:\n",
        "```cpp\n",
        "namespace math {\n",
        "    int square(int x) {\n",
        "        return x * x;\n",
        "    }\n",
        "}\n",
        "```\n",
        "3. **Use the `PYBIND11_MODULE` macro to create a module and define the namespace binding within it**:\n",
        "```cpp\n",
        "namespace py = pybind11;\n",
        "PYBIND11_MODULE(example, m) {\n",
        "    py::module_ math_submodule = m.def_submodule(\"math\");\n",
        "    math_submodule.def(\"square\", &math::square);\n",
        "}\n",
        "```\n",
        "With the above code, you can import the `example` module in Python, access the `math` submodule, and call the `square` function."
      ],
      "metadata": {
        "noteable": {
          "cell_type": "markdown"
        }
      },
      "id": "aa7988ad-5774-4b20-9177-7d935cadac23"
    },
    {
      "cell_type": "markdown",
      "source": [
        "### Detailed Example: Working with Namespaces\n",
        "Let's consider a more comprehensive example where we have multiple functions and classes organized within different namespaces.\n",
        "1. **C++ Code with Namespaces**:\n",
        "```cpp\n",
        "#include <pybind11/pybind11.h>\n",
        "#include <string>\n",
        "namespace geometry {\n",
        "    class Circle {\n",
        "    private:\n",
        "        double radius;\n",
        "    public:\n",
        "        Circle(double r) : radius(r) {}\n",
        "        double area() const { return 3.14159 * radius * radius; }\n",
        "    };\n",
        "    namespace details {\n",
        "        std::string get_shape_type() {\n",
        "            return \"Circle\";\n",
        "        }\n",
        "    }\n",
        "}\n",
        "```\n",
        "2. **Binding the C++ Code with Pybind11**:\n",
        "```cpp\n",
        "namespace py = pybind11;\n",
        "PYBIND11_MODULE(example, m) {\n",
        "    py::module_ geometry_submodule = m.def_submodule(\"geometry\");\n",
        "    geometry_submodule.def(\"get_shape_type\", &geometry::details::get_shape_type);\n",
        "    py::class_<geometry::Circle>(geometry_submodule, \"Circle\")\n",
        "        .def(py::init<double>())\n",
        "        .def(\"area\", &geometry::Circle::area);\n",
        "}\n",
        "```\n",
        "With this setup, after compiling and importing the `example` module in Python, you can do the following:\n",
        "```python\n",
        "import example\n",
        "circle = example.geometry.Circle(5)\n",
        "print(circle.area())  # Outputs the area of the circle\n",
        "print(example.geometry.get_shape_type())  # Outputs 'Circle'\n",
        "```\n",
        "This example demonstrates how you can organize and expose nested namespaces, classes, and functions using Pybind11."
      ],
      "metadata": {
        "noteable": {
          "cell_type": "markdown"
        }
      },
      "id": "07c93c17-d983-4f36-867d-d013049a4eeb"
    }
  ],
  "metadata": {
    "noteable-chatgpt": {
      "create_notebook": {
        "openai_conversation_id": "807b3ca4-4c92-5fcb-b3bd-1b08908d7510",
        "openai_ephemeral_user_id": "1ecec244-92b6-5b75-8b64-0be83e4f35de",
        "openai_subdivision1_iso_code": "CA-ON"
      }
    },
    "kernel_info": {
      "name": "python3"
    },
    "noteable": {
      "last_transaction_id": "40b5e222-0bbb-4277-a316-dcef229f73e1",
      "last_delta_id": "84f5c9c7-9ea7-4dcb-afd8-a16273a97a23"
    },
    "kernelspec": {
      "display_name": "Python 3.9",
      "language": "python",
      "name": "python3"
    },
    "selected_hardware_size": "small",
    "nteract": {
      "version": "noteable@2.9.0"
    }
  },
  "nbformat": 4,
  "nbformat_minor": 5
}