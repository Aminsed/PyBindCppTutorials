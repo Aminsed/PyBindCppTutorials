{
  "cells": [
    {
      "cell_type": "code",
      "source": [],
      "outputs": [],
      "execution_count": null,
      "metadata": {
        "jupyter": {
          "source_hidden": false,
          "outputs_hidden": false
        },
        "noteable": {
          "cell_type": "code"
        }
      },
      "id": "ad0584a5-d652-4015-b1fa-fe43ba09c2c9"
    },
    {
      "cell_type": "markdown",
      "source": [
        "# Best Practices with Pybind11\n",
        "\n",
        "In this notebook, we will explore best practices when working with pybind11. We will cover the following topics:\n",
        "\n",
        "1. Code Organization\n",
        "2. Error Handling\n",
        "3. Testing Your Code"
      ],
      "metadata": {
        "noteable": {
          "cell_type": "markdown"
        }
      },
      "id": "2001c306-47ff-4e88-b171-827485005a6b"
    },
    {
      "cell_type": "markdown",
      "source": [
        "## 1. Code Organization\n",
        "\n",
        "When working with pybind11, it's crucial to organize your code in a way that makes it easy to maintain and understand. Here are some best practices for code organization:"
      ],
      "metadata": {
        "noteable": {
          "cell_type": "markdown"
        }
      },
      "id": "d0af4b6b-a367-47a5-a2c4-76911c45683f"
    },
    {
      "cell_type": "markdown",
      "source": [
        "### Separate Binding Code from Implementation\n",
        "\n",
        "It's a good practice to keep the binding code separate from the actual implementation. This allows for cleaner code and easier maintenance. For instance, if you have a C++ class `MyClass`, you can have the following structure:\n",
        "\n",
        "```\n",
        "MyClass/\n",
        "  ├── src/\n",
        "  │   └── MyClass.cpp  # Implementation of MyClass\n",
        "  └── bindings/\n",
        "      └── MyClass_bindings.cpp  # pybind11 bindings for MyClass\n",
        "```\n",
        "\n",
        "This separation ensures that changes in the binding code do not affect the actual implementation and vice versa."
      ],
      "metadata": {
        "noteable": {
          "cell_type": "markdown"
        }
      },
      "id": "5c8de8b1-0100-4bb4-a11e-d4a612717aa8"
    },
    {
      "cell_type": "markdown",
      "source": [
        "### Use Namespaces\n",
        "\n",
        "Namespaces in C++ are used to organize code into logical groups and to prevent name collisions. When binding C++ code to Python using pybind11, it's beneficial to use namespaces to avoid potential naming conflicts and to provide a clear structure. For example:\n",
        "\n",
        "```cpp\n",
        "namespace MyLibrary {\n",
        "    class MyClass {\n",
        "        // ... class definition ...\n",
        "    };\n",
        "}\n",
        "```\n",
        "\n",
        "When binding this class using pybind11, you can reflect the namespace in the Python module:\n",
        "\n",
        "```cpp\n",
        "PYBIND11_MODULE(my_module, m) {\n",
        "    py::module_ subm = m.def_submodule(\"MyLibrary\");\n",
        "    py::class_<MyLibrary::MyClass>(subm, \"MyClass\")\n",
        "        .def(// ... binding code ...);\n",
        "}\n",
        "```\n",
        "\n",
        "This way, in Python, you can access the class as `my_module.MyLibrary.MyClass`."
      ],
      "metadata": {
        "noteable": {
          "cell_type": "markdown"
        }
      },
      "id": "2ce5aaff-0ba8-49e9-afa0-81541f9b3e6a"
    },
    {
      "cell_type": "markdown",
      "source": [
        "## 2. Error Handling\n",
        "\n",
        "Error handling is crucial when binding C++ code to Python. pybind11 provides mechanisms to translate C++ exceptions into Python exceptions, ensuring that errors are communicated effectively to the Python side. Here are some best practices for error handling with pybind11:"
      ],
      "metadata": {
        "noteable": {
          "cell_type": "markdown"
        }
      },
      "id": "f5781f0c-bca6-42ff-877c-95a0bfd2cf91"
    },
    {
      "cell_type": "markdown",
      "source": [
        "### Translate C++ Exceptions to Python Exceptions\n",
        "\n",
        "pybind11 allows you to translate C++ exceptions into Python exceptions. This ensures that when an error occurs in the C++ code, it's raised as a Python exception that can be caught and handled in Python.\n",
        "\n",
        "For example, if you have a custom C++ exception `MyException`, you can translate it to a Python `RuntimeError` as follows:\n",
        "\n",
        "```cpp\n",
        "PYBIND11_MODULE(my_module, m) {\n",
        "    py::register_exception<MyException>(m, \"RuntimeError\");\n",
        "    // ... other binding code ...\n",
        "}\n",
        "```\n",
        "\n",
        "Now, when `MyException` is thrown in the C++ code, it will be raised as a `RuntimeError` in Python."
      ],
      "metadata": {
        "noteable": {
          "cell_type": "markdown"
        }
      },
      "id": "9b3cc743-ca5d-4fae-b689-206d1295bbb6"
    },
    {
      "cell_type": "markdown",
      "source": [
        "### Provide Informative Error Messages\n",
        "\n",
        "When raising exceptions, it's essential to provide informative error messages that give insight into what went wrong. This helps users of your Python module understand and fix issues more efficiently.\n",
        "\n",
        "For instance, instead of simply throwing an exception like this:\n",
        "\n",
        "```cpp\n",
        "throw std::runtime_error(\"Error occurred\");\n",
        "```\n",
        "\n",
        "Provide a more descriptive message:\n",
        "\n",
        "```cpp\n",
        "throw std::runtime_error(\"Failed to process data due to invalid format.\");\n",
        "```\n",
        "\n",
        "This gives the user a clearer idea of the nature of the error and how to address it."
      ],
      "metadata": {
        "noteable": {
          "cell_type": "markdown"
        }
      },
      "id": "4e345baa-6089-418f-b2f1-6dc5e9cd9b5b"
    },
    {
      "cell_type": "markdown",
      "source": [
        "## 3. Testing Your Code\n",
        "\n",
        "Testing is a fundamental aspect of software development. When binding C++ code to Python, it's essential to test both the C++ implementation and the Python bindings to ensure correct functionality. Here are some best practices for testing your code with pybind11:"
      ],
      "metadata": {
        "noteable": {
          "cell_type": "markdown"
        }
      },
      "id": "6edf43de-43d1-4caf-a2d5-281195078cd3"
    },
    {
      "cell_type": "markdown",
      "source": [
        "### Use Unit Tests for C++ Code\n",
        "\n",
        "Before binding your C++ code to Python, ensure that it's thoroughly tested using unit tests. This helps in identifying and fixing issues at the C++ level, ensuring that the code you're binding is robust and reliable.\n",
        "\n",
        "For C++ unit testing, frameworks like [Google Test](https://github.com/google/googletest) can be used. Here's a simple example of a unit test for a C++ function:\n",
        "\n",
        "```cpp\n",
        "#include <gtest/gtest.h>\n",
        "\n",
        "int add(int a, int b) {\n",
        "    return a + b;\n",
        "}\n",
        "\n",
        "TEST(AdditionTest, PositiveNumbers) {\n",
        "    EXPECT_EQ(add(3, 4), 7);\n",
        "}\n",
        "```\n",
        "\n",
        "This test checks if the `add` function correctly adds two positive numbers."
      ],
      "metadata": {
        "noteable": {
          "cell_type": "markdown"
        }
      },
      "id": "3863ef2f-adc5-4bc8-8bba-62f14439792b"
    },
    {
      "cell_type": "markdown",
      "source": [
        "### Test Python Bindings with Pytest\n",
        "\n",
        "After binding your C++ code to Python, it's essential to test the Python bindings to ensure they work as expected. [Pytest](https://docs.pytest.org/en/stable/) is a popular testing framework for Python that can be used for this purpose.\n",
        "\n",
        "For instance, if you've bound a C++ function `add` to Python, you can write a pytest test like this:\n",
        "\n",
        "```python\n",
        "def test_add():\n",
        "    from my_module import add\n",
        "    assert add(3, 4) == 7\n",
        "```\n",
        "\n",
        "This test checks if the bound `add` function works correctly in Python. Make sure to run these tests in a Python environment where your module is installed."
      ],
      "metadata": {
        "noteable": {
          "cell_type": "markdown"
        }
      },
      "id": "dcba534e-8232-4479-b39f-cfc82b76c54d"
    },
    {
      "cell_type": "markdown",
      "source": [
        "## Dive Deeper: Separate Binding Code from Implementation\n",
        "\n",
        "Separating the binding code from the actual implementation is a best practice that ensures maintainability and clarity. Let's delve deeper into this concept with a detailed example."
      ],
      "metadata": {
        "noteable": {
          "cell_type": "markdown"
        }
      },
      "id": "7e5f4eb9-ec4e-427f-b272-3cb8294f2999"
    },
    {
      "cell_type": "markdown",
      "source": [
        "### C++ Implementation: `Calculator`\n",
        "\n",
        "Let's consider a simple C++ class named `Calculator` that provides basic arithmetic operations. We'll place the implementation of this class in a file named `Calculator.cpp`."
      ],
      "metadata": {
        "noteable": {
          "cell_type": "markdown"
        }
      },
      "id": "c6b0ee8e-5cd3-4c10-a713-f1909b763d66"
    },
    {
      "cell_type": "markdown",
      "source": [
        "```cpp\n",
        "// Calculator.cpp\n",
        "\n",
        "#include <iostream>\n",
        "\n",
        "namespace Math {\n",
        "\n",
        "    class Calculator {\n",
        "    public:\n",
        "        // Constructor\n",
        "        Calculator() {}\n",
        "\n",
        "        // Basic arithmetic operations\n",
        "        double add(double a, double b) {\n",
        "            return a + b;\n",
        "        }\n",
        "\n",
        "        double subtract(double a, double b) {\n",
        "            return a - b;\n",
        "        }\n",
        "\n",
        "        double multiply(double a, double b) {\n",
        "            return a * b;\n",
        "        }\n",
        "\n",
        "        double divide(double a, double b) {\n",
        "            if (b == 0) {\n",
        "                throw std::runtime_error(\"Division by zero!\");\n",
        "            }\n",
        "            return a / b;\n",
        "        }\n",
        "    };\n",
        "\n",
        "}\n",
        "```\n",
        "\n",
        "In the above code, we've defined a `Calculator` class within the `Math` namespace. This class provides methods for addition, subtraction, multiplication, and division. Notice that we've also added error handling for division by zero."
      ],
      "metadata": {
        "noteable": {
          "cell_type": "markdown"
        }
      },
      "id": "5bbbe583-a1b6-4873-a964-1bf6a2b8c211"
    },
    {
      "cell_type": "markdown",
      "source": [
        "### Pybind11 Bindings: `Calculator_bindings.cpp`\n",
        "\n",
        "Now, let's create the pybind11 bindings for the `Calculator` class. We'll place these bindings in a separate file named `Calculator_bindings.cpp`."
      ],
      "metadata": {
        "noteable": {
          "cell_type": "markdown"
        }
      },
      "id": "472f224b-c2e7-4c72-8d37-2d6341c5ec13"
    },
    {
      "cell_type": "markdown",
      "source": [
        "```cpp\n",
        "// Calculator_bindings.cpp\n",
        "\n",
        "#include <pybind11/pybind11.h>\n",
        "#include \"Calculator.cpp\"\n",
        "\n",
        "namespace py = pybind11;\n",
        "\n",
        "PYBIND11_MODULE(calculator_module, m) {\n",
        "    py::class_<Math::Calculator>(m, \"Calculator\")\n",
        "        .def(py::init<>())\n",
        "        .def(\"add\", &Math::Calculator::add)\n",
        "        .def(\"subtract\", &Math::Calculator::subtract)\n",
        "        .def(\"multiply\", &Math::Calculator::multiply)\n",
        "        .def(\"divide\", &Math::Calculator::divide);\n",
        "}\n",
        "```\n",
        "\n",
        "Here's what we're doing in the binding code:\n",
        "\n",
        "1. **Include Dependencies**: We include the necessary pybind11 header and the `Calculator.cpp` file.\n",
        "\n",
        "2. **Define the Module**: We use the `PYBIND11_MODULE` macro to define a new Python module named `calculator_module`.\n",
        "\n",
        "3. **Bind the Calculator Class**: Within the module, we bind the `Calculator` class from the `Math` namespace. We also bind its methods using the `.def()` method.\n",
        "\n",
        "By separating the binding code from the actual implementation, we ensure that the C++ logic remains clean and focused, while the binding code deals exclusively with interfacing between C++ and Python."
      ],
      "metadata": {
        "noteable": {
          "cell_type": "markdown"
        }
      },
      "id": "c5d7912d-bc2f-4e5b-96bf-1f1d7c84a88c"
    },
    {
      "cell_type": "markdown",
      "source": [
        "### Using the Bound Module in Python\n",
        "\n",
        "Once the C++ code is compiled with the bindings, you can import and use the `calculator_module` in Python. Here's how you can do that:"
      ],
      "metadata": {
        "noteable": {
          "cell_type": "markdown"
        }
      },
      "id": "0cfd01b8-c6e7-4b25-9517-383e47f5a663"
    },
    {
      "cell_type": "markdown",
      "source": [
        "```python\n",
        "# Python code\n",
        "\n",
        "import calculator_module\n",
        "\n",
        "calc = calculator_module.Calculator()\n",
        "\n",
        "# Using the Calculator class methods\n",
        "result_add = calc.add(5, 3)\n",
        "result_sub = calc.subtract(5, 3)\n",
        "result_mul = calc.multiply(5, 3)\n",
        "result_div = calc.divide(5, 3)\n",
        "\n",
        "print(f\"Addition: {result_add}\")\n",
        "print(f\"Subtraction: {result_sub}\")\n",
        "print(f\"Multiplication: {result_mul}\")\n",
        "print(f\"Division: {result_div}\")\n",
        "```\n",
        "\n",
        "In the Python code above:\n",
        "\n",
        "1. We **import** the `calculator_module`.\n",
        "\n",
        "2. We **create an instance** of the `Calculator` class.\n",
        "\n",
        "3. We then **call the methods** of the `Calculator` class and print the results.\n",
        "\n",
        "This demonstrates how the bound C++ code can be seamlessly used in Python, providing a native Python-like experience while leveraging the performance and capabilities of C++."
      ],
      "metadata": {
        "noteable": {
          "cell_type": "markdown"
        }
      },
      "id": "d5c67615-ab0b-4815-9051-57bfffa1d892"
    },
    {
      "cell_type": "markdown",
      "source": [
        "## Dive Deeper: Error Handling from Implementation\n",
        "\n",
        "Error handling is a critical aspect of software development, ensuring that the software behaves predictably and provides meaningful feedback to the user. When binding C++ code to Python using pybind11, it's essential to handle errors effectively to ensure a smooth user experience. Let's delve deeper into this concept with a detailed example."
      ],
      "metadata": {
        "noteable": {
          "cell_type": "markdown"
        }
      },
      "id": "65f2fc31-f1bd-4c97-af1c-4a73bf0b71c6"
    },
    {
      "cell_type": "markdown",
      "source": [
        "### C++ Implementation with Error Handling: `AdvancedCalculator`\n",
        "\n",
        "Consider an `AdvancedCalculator` class that provides a method to compute the square root of a number. This method should handle potential errors, such as attempting to compute the square root of a negative number. We'll place the implementation of this class in a file named `AdvancedCalculator.cpp`."
      ],
      "metadata": {
        "noteable": {
          "cell_type": "markdown"
        }
      },
      "id": "c4643cf6-1de0-4f3f-b4c0-b4c78a88150e"
    },
    {
      "cell_type": "markdown",
      "source": [
        "```cpp\n",
        "// AdvancedCalculator.cpp\n",
        "\n",
        "#include <iostream>\n",
        "#include <cmath>\n",
        "#include <stdexcept>\n",
        "\n",
        "namespace Math {\n",
        "\n",
        "    class AdvancedCalculator {\n",
        "    public:\n",
        "        // Constructor\n",
        "        AdvancedCalculator() {}\n",
        "\n",
        "        // Compute the square root of a number\n",
        "        double squareRoot(double num) {\n",
        "            if (num < 0) {\n",
        "                throw std::invalid_argument(\"Cannot compute the square root of a negative number.\");\n",
        "            }\n",
        "            return std::sqrt(num);\n",
        "        }\n",
        "    };\n",
        "\n",
        "}\n",
        "```\n",
        "\n",
        "In the above code:\n",
        "\n",
        "1. We've defined an `AdvancedCalculator` class within the `Math` namespace.\n",
        "\n",
        "2. The `squareRoot` method checks if the input number is negative. If it is, it throws an `std::invalid_argument` exception with a descriptive error message.\n",
        "\n",
        "3. If the input number is non-negative, it computes and returns the square root using the `std::sqrt` function."
      ],
      "metadata": {
        "noteable": {
          "cell_type": "markdown"
        }
      },
      "id": "8a2b7476-2fdc-4b8f-9bc1-cff2b53989cb"
    },
    {
      "cell_type": "markdown",
      "source": [
        "### Pybind11 Bindings with Error Translation: `AdvancedCalculator_bindings.cpp`\n",
        "\n",
        "Now, let's create the pybind11 bindings for the `AdvancedCalculator` class. Importantly, we'll also set up error translation to convert C++ exceptions into Python exceptions. We'll place these bindings in a separate file named `AdvancedCalculator_bindings.cpp`."
      ],
      "metadata": {
        "noteable": {
          "cell_type": "markdown"
        }
      },
      "id": "1941715b-37a6-4486-ba3b-09bcbcecaec6"
    },
    {
      "cell_type": "markdown",
      "source": [
        "```cpp\n",
        "// AdvancedCalculator_bindings.cpp\n",
        "\n",
        "#include <pybind11/pybind11.h>\n",
        "#include \"AdvancedCalculator.cpp\"\n",
        "\n",
        "namespace py = pybind11;\n",
        "\n",
        "void translate(const std::invalid_argument& e) {\n",
        "    PyErr_SetString(PyExc_ValueError, e.what());\n",
        "}\n",
        "\n",
        "PYBIND11_MODULE(advanced_calculator_module, m) {\n",
        "    py::register_exception_translator<std::invalid_argument>(&translate);\n",
        "\n",
        "    py::class_<Math::AdvancedCalculator>(m, \"AdvancedCalculator\")\n",
        "        .def(py::init<>())\n",
        "        .def(\"squareRoot\", &Math::AdvancedCalculator::squareRoot);\n",
        "}\n",
        "```\n",
        "\n",
        "Here's what we're doing in the binding code:\n",
        "\n",
        "1. **Include Dependencies**: We include the necessary pybind11 header and the `AdvancedCalculator.cpp` file.\n",
        "\n",
        "2. **Exception Translator**: We define a function `translate` that translates the C++ `std::invalid_argument` exception into a Python `ValueError`.\n",
        "\n",
        "3. **Define the Module**: We use the `PYBIND11_MODULE` macro to define a new Python module named `advanced_calculator_module`.\n",
        "\n",
        "4. **Register Exception Translator**: We register the exception translator using `py::register_exception_translator`.\n",
        "\n",
        "5. **Bind the AdvancedCalculator Class**: Within the module, we bind the `AdvancedCalculator` class from the `Math` namespace and its `squareRoot` method.\n",
        "\n",
        "By setting up error translation, we ensure that C++ exceptions are raised as Python exceptions, providing a consistent error-handling experience for Python users."
      ],
      "metadata": {
        "noteable": {
          "cell_type": "markdown"
        }
      },
      "id": "5e678a64-5b66-49bf-8ccf-d230e2b79897"
    },
    {
      "cell_type": "markdown",
      "source": [
        "### Using the Bound Module with Error Handling in Python\n",
        "\n",
        "Once the C++ code is compiled with the bindings, you can import and use the `advanced_calculator_module` in Python. Let's see how the error handling works in Python when we try to compute the square root of a negative number."
      ],
      "metadata": {
        "noteable": {
          "cell_type": "markdown"
        }
      },
      "id": "2182a315-4d3f-4563-beca-d62fd26f1572"
    },
    {
      "cell_type": "markdown",
      "source": [
        "```python\n",
        "# Python code\n",
        "\n",
        "import advanced_calculator_module\n",
        "\n",
        "advanced_calc = advanced_calculator_module.AdvancedCalculator()\n",
        "\n",
        "try:\n",
        "    result = advanced_calc.squareRoot(-16)\n",
        "except ValueError as e:\n",
        "    print(f\"Error: {e}\")\n",
        "```\n",
        "\n",
        "In the Python code above:\n",
        "\n",
        "1. We **import** the `advanced_calculator_module`.\n",
        "\n",
        "2. We **create an instance** of the `AdvancedCalculator` class.\n",
        "\n",
        "3. We use a **try-except block** to catch the `ValueError` that will be raised when attempting to compute the square root of a negative number.\n",
        "\n",
        "4. The error message \"Cannot compute the square root of a negative number.\" from the C++ code is caught and printed in Python, demonstrating the seamless error translation from C++ to Python."
      ],
      "metadata": {
        "noteable": {
          "cell_type": "markdown"
        }
      },
      "id": "c5d32f42-9ebf-474f-81f5-99cd2ad171a0"
    },
    {
      "cell_type": "markdown",
      "source": [
        "## Dive Deeper: Testing Your Code\n",
        "\n",
        "Testing is a fundamental aspect of software development, ensuring that the software behaves as expected and is free of defects. When binding C++ code to Python using pybind11, it's essential to test both the C++ implementation and the Python bindings. Let's delve deeper into this concept with a detailed example."
      ],
      "metadata": {
        "noteable": {
          "cell_type": "markdown"
        }
      },
      "id": "75f630cb-ef4b-47b3-8279-238f82dd31d1"
    },
    {
      "cell_type": "markdown",
      "source": [
        "### C++ Implementation: `FactorialCalculator`\n",
        "\n",
        "Consider a `FactorialCalculator` class that provides a method to compute the factorial of a number. We'll place the implementation of this class in a file named `FactorialCalculator.cpp`."
      ],
      "metadata": {
        "noteable": {
          "cell_type": "markdown"
        }
      },
      "id": "a5412609-c7b0-4c4f-9013-61e89dc33f3a"
    },
    {
      "cell_type": "markdown",
      "source": [
        "```cpp\n",
        "// FactorialCalculator.cpp\n",
        "\n",
        "#include <stdexcept>\n",
        "\n",
        "namespace Math {\n",
        "\n",
        "    class FactorialCalculator {\n",
        "    public:\n",
        "        // Constructor\n",
        "        FactorialCalculator() {}\n",
        "\n",
        "        // Compute the factorial of a number\n",
        "        int factorial(int n) {\n",
        "            if (n < 0) {\n",
        "                throw std::invalid_argument(\"Cannot compute the factorial of a negative number.\");\n",
        "            }\n",
        "            if (n == 0) return 1;\n",
        "            return n * factorial(n - 1);\n",
        "        }\n",
        "    };\n",
        "\n",
        "}\n",
        "```\n",
        "\n",
        "In the above code:\n",
        "\n",
        "1. We've defined a `FactorialCalculator` class within the `Math` namespace.\n",
        "\n",
        "2. The `factorial` method computes the factorial of a number recursively. If the input number is negative, it throws an `std::invalid_argument` exception with a descriptive error message."
      ],
      "metadata": {
        "noteable": {
          "cell_type": "markdown"
        }
      },
      "id": "68c5a1b7-e708-44b3-9b1e-4e6e66ac3d1f"
    },
    {
      "cell_type": "markdown",
      "source": [
        "### C++ Unit Test using Google Test\n",
        "\n",
        "Before binding the C++ code to Python, it's crucial to test the C++ implementation using unit tests. For this example, we'll use the Google Test framework to write a unit test for the `FactorialCalculator` class. Let's name the test file `FactorialCalculator_test.cpp`."
      ],
      "metadata": {
        "noteable": {
          "cell_type": "markdown"
        }
      },
      "id": "906ffec2-cd2e-4964-b5a8-d85f3526ad2f"
    },
    {
      "cell_type": "markdown",
      "source": [
        "```cpp\n",
        "// FactorialCalculator_test.cpp\n",
        "\n",
        "#include <gtest/gtest.h>\n",
        "#include \"FactorialCalculator.cpp\"\n",
        "\n",
        "TEST(FactorialCalculatorTest, PositiveNumbers) {\n",
        "    Math::FactorialCalculator calc;\n",
        "    EXPECT_EQ(calc.factorial(0), 1);\n",
        "    EXPECT_EQ(calc.factorial(1), 1);\n",
        "    EXPECT_EQ(calc.factorial(5), 120);\n",
        "}\n",
        "\n",
        "TEST(FactorialCalculatorTest, NegativeNumber) {\n",
        "    Math::FactorialCalculator calc;\n",
        "    EXPECT_THROW(calc.factorial(-5), std::invalid_argument);\n",
        "}\n",
        "```\n",
        "\n",
        "In the test code above:\n",
        "\n",
        "1. We **include** the necessary Google Test header and the `FactorialCalculator.cpp` file.\n",
        "\n",
        "2. We define two test cases using the `TEST` macro:\n",
        "   - `FactorialCalculatorTest, PositiveNumbers`: This test case checks the factorial values for positive numbers and zero.\n",
        "   - `FactorialCalculatorTest, NegativeNumber`: This test case checks if the `factorial` method throws an exception for negative numbers as expected.\n",
        "\n",
        "By writing these tests, we ensure that the `FactorialCalculator` class behaves as expected before we proceed with creating Python bindings."
      ],
      "metadata": {
        "noteable": {
          "cell_type": "markdown"
        }
      },
      "id": "cfa33afa-2c19-4c00-b1cb-38947ac21cd1"
    },
    {
      "cell_type": "markdown",
      "source": [
        "### Pybind11 Bindings: `FactorialCalculator_bindings.cpp`\n",
        "\n",
        "Now, let's create the pybind11 bindings for the `FactorialCalculator` class. We'll also set up error translation to convert C++ exceptions into Python exceptions. We'll place these bindings in a separate file named `FactorialCalculator_bindings.cpp`."
      ],
      "metadata": {
        "noteable": {
          "cell_type": "markdown"
        }
      },
      "id": "0ffc4b93-0dc0-4dcb-96a6-6846f7565f59"
    },
    {
      "cell_type": "markdown",
      "source": [
        "### C++ Unit Test using Google Test\n",
        "\n",
        "Before binding the C++ code to Python, it's crucial to test the C++ implementation using unit tests. For this example, we'll use the Google Test framework to write a unit test for the `FactorialCalculator` class. Let's name the test file `FactorialCalculator_test.cpp`."
      ],
      "metadata": {
        "noteable": {
          "cell_type": "markdown"
        }
      },
      "id": "585aa0e4-43e8-4cd0-b300-3383bba484f6"
    },
    {
      "cell_type": "markdown",
      "source": [
        "```cpp\n",
        "// FactorialCalculator_test.cpp\n",
        "\n",
        "#include <gtest/gtest.h>\n",
        "#include \"FactorialCalculator.cpp\"\n",
        "\n",
        "TEST(FactorialCalculatorTest, PositiveNumbers) {\n",
        "    Math::FactorialCalculator calc;\n",
        "    EXPECT_EQ(calc.factorial(0), 1);\n",
        "    EXPECT_EQ(calc.factorial(1), 1);\n",
        "    EXPECT_EQ(calc.factorial(5), 120);\n",
        "}\n",
        "\n",
        "TEST(FactorialCalculatorTest, NegativeNumber) {\n",
        "    Math::FactorialCalculator calc;\n",
        "    EXPECT_THROW(calc.factorial(-1), std::invalid_argument);\n",
        "}\n",
        "```\n",
        "\n",
        "In the test code above:\n",
        "\n",
        "1. We include the necessary Google Test header and the `FactorialCalculator.cpp` file.\n",
        "\n",
        "2. We define two test cases:\n",
        "   - `PositiveNumbers`: This test checks the factorial computation for a few positive numbers and zero.\n",
        "   - `NegativeNumber`: This test checks if the `factorial` method throws an exception for negative numbers as expected."
      ],
      "metadata": {
        "noteable": {
          "cell_type": "markdown"
        }
      },
      "id": "458620bb-118a-49f2-b1a6-fb5b323b7a48"
    },
    {
      "cell_type": "markdown",
      "source": [
        "### CMake Configuration for Compiling and Testing\n",
        "\n",
        "To compile the `FactorialCalculator` class and its tests, we'll use CMake. Below is the CMake configuration file, `CMakeLists.txt`, that sets up the build process and integrates Google Test for unit testing."
      ],
      "metadata": {
        "noteable": {
          "cell_type": "markdown"
        }
      },
      "id": "47edc83e-295f-4b4a-9b8f-833421b416c0"
    },
    {
      "cell_type": "markdown",
      "source": [
        "```cmake\n",
        "# CMakeLists.txt\n",
        "\n",
        "cmake_minimum_required(VERSION 3.10)\n",
        "\n",
        "project(FactorialCalculator)\n",
        "\n",
        "# Enable testing for the project\n",
        "enable_testing()\n",
        "\n",
        "# Add Google Test directory\n",
        "add_subdirectory(googletest)\n",
        "\n",
        "# Include directories\n",
        "include_directories(${PROJECT_SOURCE_DIR})\n",
        "\n",
        "# Create a library for FactorialCalculator\n",
        "add_library(FactorialCalculatorLib FactorialCalculator.cpp)\n",
        "\n",
        "# Add executable for the tests\n",
        "add_executable(FactorialCalculatorTest FactorialCalculator_test.cpp)\n",
        "\n",
        "# Link the test executable with Google Test and FactorialCalculatorLib\n",
        "target_link_libraries(FactorialCalculatorTest gtest gtest_main FactorialCalculatorLib)\n",
        "\n",
        "# Add the tests\n",
        "add_test(NAME FactorialCalculatorTest COMMAND FactorialCalculatorTest)\n",
        "```\n",
        "\n",
        "In the CMake configuration:\n",
        "\n",
        "1. We set the minimum required version of CMake and define the project name.\n",
        "\n",
        "2. We enable testing for the project using `enable_testing()`.\n",
        "\n",
        "3. We add the Google Test directory to the project. This assumes that the Google Test source code is located in a subdirectory named `googletest`.\n",
        "\n",
        "4. We specify the include directories and create a library for the `FactorialCalculator` class.\n",
        "\n",
        "5. We then add an executable for the tests and link it with Google Test and the `FactorialCalculator` library.\n",
        "\n",
        "6. Finally, we add the test to the project using `add_test()`."
      ],
      "metadata": {
        "noteable": {
          "cell_type": "markdown"
        }
      },
      "id": "955cf9f6-2505-4088-81fd-5255a7a96277"
    },
    {
      "cell_type": "markdown",
      "source": [
        "### Compiling and Running Tests\n",
        "\n",
        "With the CMake configuration in place, you can compile the `FactorialCalculator` class and run its tests. Here are the steps to do so:\n",
        "\n",
        "1. **Create a Build Directory**: Navigate to the project directory and create a new directory named `build`.\n",
        "\n",
        "   ```bash\n",
        "   mkdir build\n",
        "   cd build\n",
        "   ```\n",
        "\n",
        "2. **Run CMake**: From within the `build` directory, run CMake to generate the build files.\n",
        "\n",
        "   ```bash\n",
        "   cmake ..\n",
        "   ```\n",
        "\n",
        "3. **Compile the Code**: Use the `make` command to compile the code.\n",
        "\n",
        "   ```bash\n",
        "   make\n",
        "   ```\n",
        "\n",
        "4. **Run the Tests**: After compiling, you can run the tests using the following command:\n",
        "\n",
        "   ```bash\n",
        "   ./FactorialCalculatorTest\n",
        "   ```\n",
        "\n",
        "If everything is set up correctly, you should see the test results indicating whether the tests passed or failed."
      ],
      "metadata": {
        "noteable": {
          "cell_type": "markdown"
        }
      },
      "id": "9a75354d-9829-4ecc-868b-73dcb6323aad"
    },
    {
      "cell_type": "markdown",
      "source": [
        "## Conclusion and Summary\n",
        "\n",
        "Binding C++ code to Python using pybind11 offers a powerful way to leverage the performance and capabilities of C++ while providing a seamless and Pythonic interface to users. Throughout this tutorial, we've explored best practices to ensure that this integration is smooth, efficient, and user-friendly."
      ],
      "metadata": {
        "noteable": {
          "cell_type": "markdown"
        }
      },
      "id": "40cd47f1-649b-4462-a5dd-ecd1f1545f33"
    },
    {
      "cell_type": "markdown",
      "source": [
        "Here's a brief recap of the key topics we covered:\n",
        "\n",
        "1. **Code Organization**: We emphasized the importance of separating the binding code from the actual C++ implementation. This ensures clarity and maintainability.\n",
        "\n",
        "2. **Error Handling**: Proper error handling is crucial. We explored how to handle errors in the C++ code and translate them into Python exceptions using pybind11, ensuring that Python users receive meaningful error messages.\n",
        "\n",
        "3. **Testing Your Code**: Before binding C++ code to Python, it's essential to test the C++ implementation thoroughly. We demonstrated how to write unit tests using the Google Test framework and provided a CMake configuration for compiling and running the tests.\n",
        "\n",
        "By following these best practices, developers can create robust, efficient, and user-friendly Python modules backed by C++ implementations. This approach allows for the best of both worlds: the performance of C++ and the ease of use of Python."
      ],
      "metadata": {
        "noteable": {
          "cell_type": "markdown"
        }
      },
      "id": "f00009c3-9715-428c-b734-dcc16537da77"
    }
  ],
  "metadata": {
    "noteable-chatgpt": {
      "create_notebook": {
        "openai_conversation_id": "807b3ca4-4c92-5fcb-b3bd-1b08908d7510",
        "openai_ephemeral_user_id": "0e75b4a8-a83c-55a7-a992-ab62c268f1fb",
        "openai_subdivision1_iso_code": "CA-ON"
      }
    },
    "kernel_info": {
      "name": "python3"
    },
    "noteable": {
      "last_delta_id": "3d47f342-bbb0-4dcc-9fee-d04c5c3261db"
    },
    "kernelspec": {
      "display_name": "Python 3.9",
      "language": "python",
      "name": "python3"
    },
    "selected_hardware_size": "small",
    "nteract": {
      "version": "noteable@2.9.0"
    }
  },
  "nbformat": 4,
  "nbformat_minor": 5
}