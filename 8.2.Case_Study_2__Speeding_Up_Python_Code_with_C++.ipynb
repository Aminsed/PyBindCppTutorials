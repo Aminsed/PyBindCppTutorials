{
  "cells": [
    {
      "cell_type": "markdown",
      "source": [
        "# Introduction\n",
        "\n",
        "`pybind11` is a lightweight header-only library that exposes C++ types in Python and vice versa, mainly to create Python bindings of existing C++ code. By integrating C++ with Python using `pybind11`, we can achieve the following benefits:\n",
        "\n",
        "1. **Performance Boost**: C++ is generally faster than Python, especially for computationally intensive tasks. By offloading these tasks to C++, we can speed up our Python applications.\n",
        "2. **Leverage Existing C++ Libraries**: There are many powerful C++ libraries out there. With `pybind11`, we can easily use these libraries in our Python projects.\n",
        "3. **Type Safety**: C++ is a statically-typed language, which can help catch type-related errors at compile time rather than runtime.\n",
        "\n",
        "In this tutorial, we'll explore how to use `pybind11` to bind C++ code to Python, allowing us to harness the power and speed of C++ within our Python applications."
      ],
      "metadata": {
        "amin": {
          "cell_type": "markdown"
        }
      },
      "id": "0a2ca2e4-3b5b-4074-aa8a-b943f91fd75a"
    },
    {
      "cell_type": "markdown",
      "source": [
        "# Setting Up\n",
        "\n",
        "Before we start writing code, we need to set up our environment and project structure. Here are the steps:\n",
        "\n",
        "## Required Installations\n",
        "1. **Python**: Ensure you have Python installed. You can download it from [Python's official website](https://www.python.org/downloads/).\n",
        "2. **C++ Compiler**: Depending on your OS, you might need to install a C++ compiler. For Windows, you can use [Visual Studio](https://visualstudio.microsoft.com/). For macOS, you can use `clang` which comes with Xcode. For Linux, you can use `g++`.\n",
        "3. **CMake**: We'll use CMake to manage our build process. Install it from [CMake's official website](https://cmake.org/download/).\n",
        "4. **pybind11**: Install `pybind11` using pip:\n",
        "   ```bash\n",
        "   pip install pybind11\n",
        "   ```\n",
        "\n",
        "## Project Folder Structure\n",
        "Here's a suggested folder structure for our project:\n",
        "```\n",
        "project_root/\n",
        "│\n",
        "├── src/               # C++ source files\n",
        "│   ├── main.cpp\n",
        "│   └── bindings.cpp  # pybind11 bindings\n",
        "│\n",
        "├── include/           # C++ header files\n",
        "│   └── main.h\n",
        "│\n",
        "├── tests/             # Google Test files\n",
        "│   └── test_main.cpp\n",
        "│\n",
        "├── CMakeLists.txt     # CMake configuration file\n",
        "│\n",
        "└── main.py            # Python script to test our bindings\n",
        "```\n",
        "\n",
        "With the installations and folder structure in place, we can proceed to write and bind our C++ code to Python."
      ],
      "metadata": {
        "amin": {
          "cell_type": "markdown"
        }
      },
      "id": "c06e984f-62d9-4a71-915c-cbf826456c4f"
    },
    {
      "cell_type": "markdown",
      "source": [
        "# Basic C++ Function Binding\n",
        "\n",
        "To begin with, let's write a simple C++ function that we want to bind to Python. For this example, we'll create a function that multiplies two numbers.\n",
        "\n",
        "## C++ Code (`main.cpp`)\n",
        "```cpp\n",
        "#include <iostream>\n",
        "\n",
        "double multiply(double a, double b) {\n",
        "    return a * b;\n",
        "}\n",
        "```\n",
        "\n",
        "Now, let's write the binding code using `pybind11`.\n",
        "\n",
        "## Binding Code (`bindings.cpp`)\n",
        "```cpp\n",
        "#include <pybind11/pybind11.h>\n",
        "#include \"main.h\"\n",
        "\n",
        "namespace py = pybind11;\n",
        "\n",
        "PYBIND11_MODULE(example, m) {\n",
        "    m.doc() = \"pybind11 example plugin\"; // Optional module docstring\n",
        "\n",
        "    m.def(\"multiply\", &multiply, \"A function that multiplies two numbers\");\n",
        "}\n",
        "```\n",
        "\n",
        "In the binding code, we include the necessary headers, define a namespace for `pybind11`, and then use the `PYBIND11_MODULE` macro to define our bindings. The `m.def` function is used to bind our `multiply` function to Python. The first argument is the name of the function in Python, the second is a pointer to the C++ function, and the third is an optional docstring.\n",
        "\n",
        "With this setup, once compiled, we can import the `example` module in Python and call the `multiply` function just like any other Python function."
      ],
      "metadata": {
        "amin": {
          "cell_type": "markdown"
        }
      },
      "id": "4f786d36-eded-490b-a8a3-dad6da053cf4"
    },
    {
      "cell_type": "markdown",
      "source": [
        "# Using Namespaces\n",
        "\n",
        "Namespaces are a way in C++ to group related functions, classes, and variables together. They provide context to identifiers to avoid naming collisions. This is especially useful when integrating with third-party libraries or when working on large projects.\n",
        "\n",
        "Let's see how we can use namespaces in our C++ code and how it translates to Python bindings.\n",
        "\n",
        "## C++ Code with Namespaces (`main.cpp`)\n",
        "```cpp\n",
        "#include <iostream>\n",
        "\n",
        "namespace math_operations {\n",
        "    double multiply(double a, double b) {\n",
        "        return a * b;\n",
        "    }\n",
        "}\n",
        "```\n",
        "\n",
        "In the above code, we've defined a namespace `math_operations` and placed our `multiply` function inside it.\n",
        "\n",
        "## Binding Code with Namespaces (`bindings.cpp`)\n",
        "```cpp\n",
        "#include <pybind11/pybind11.h>\n",
        "#include \"main.h\"\n",
        "\n",
        "namespace py = pybind11;\n",
        "\n",
        "PYBIND11_MODULE(example, m) {\n",
        "    m.doc() = \"pybind11 example plugin with namespaces\";\n",
        "\n",
        "    py::module_ math_submodule = m.def_submodule(\"math_operations\", \"Math operations submodule\");\n",
        "    math_submodule.def(\"multiply\", &math_operations::multiply, \"A function that multiplies two numbers\");\n",
        "}\n",
        "```\n",
        "\n",
        "In the binding code, we create a submodule named `math_operations` using `m.def_submodule`. This submodule will correspond to our C++ namespace. We then bind the `multiply` function to this submodule.\n",
        "\n",
        "With this setup, in Python, we can access the `multiply` function as follows:\n",
        "```python\n",
        "import example\n",
        "result = example.math_operations.multiply(5, 4)\n",
        "```\n",
        "\n",
        "This way, namespaces in C++ translate to submodules in Python, providing a structured and organized way to access the bound functions."
      ],
      "metadata": {
        "amin": {
          "cell_type": "markdown"
        }
      },
      "id": "de56bc99-e316-4829-944a-2681f950e3f6"
    },
    {
      "cell_type": "markdown",
      "source": [
        "# Exception Handling\n",
        "\n",
        "When integrating C++ with Python, it's essential to handle exceptions properly to ensure that errors in the C++ layer are communicated to the Python layer. `pybind11` provides mechanisms to translate C++ exceptions into Python exceptions and vice versa.\n",
        "\n",
        "Let's see how we can handle exceptions in our C++ code and propagate them to Python.\n",
        "\n",
        "## C++ Code with Exception (`main.cpp`)\n",
        "```cpp\n",
        "#include <iostream>\n",
        "#include <stdexcept>\n",
        "\n",
        "double divide(double a, double b) {\n",
        "    if (b == 0.0) {\n",
        "        throw std::runtime_error(\"Division by zero!\");\n",
        "    }\n",
        "    return a / b;\n",
        "}\n",
        "```\n",
        "\n",
        "In the above code, we've defined a `divide` function that throws a `std::runtime_error` exception if the denominator is zero.\n",
        "\n",
        "## Binding Code with Exception Handling (`bindings.cpp`)\n",
        "```cpp\n",
        "#include <pybind11/pybind11.h>\n",
        "#include \"main.h\"\n",
        "\n",
        "namespace py = pybind11;\n",
        "\n",
        "PYBIND11_MODULE(example, m) {\n",
        "    m.def(\"divide\", &divide);\n",
        "}\n",
        "```\n",
        "\n",
        "With `pybind11`, C++ exceptions are automatically translated to Python exceptions. So, when we call the `divide` function from Python with a denominator of zero, a Python `RuntimeError` will be raised with the message \"Division by zero!\".\n",
        "\n",
        "This seamless integration of exception handling ensures that our Python code is always informed of any issues that arise in the C++ layer."
      ],
      "metadata": {
        "amin": {
          "cell_type": "markdown"
        }
      },
      "id": "dc865786-013f-493c-8205-d2a1b32245e3"
    },
    {
      "cell_type": "markdown",
      "source": [
        "# Separating Binding Code from Implementation\n",
        "\n",
        "For maintainability and clarity, it's beneficial to keep the `pybind11` binding code separate from the actual C++ implementation. This separation ensures that the core C++ logic remains untouched and can be used independently of the Python bindings.\n",
        "\n",
        "Let's see how we can structure our project to achieve this separation.\n",
        "\n",
        "## C++ Implementation (`main.cpp`)\n",
        "```cpp\n",
        "#include <iostream>\n",
        "\n",
        "double add(double a, double b) {\n",
        "    return a + b;\n",
        "}\n",
        "```\n",
        "\n",
        "The above code contains the core C++ logic without any bindings.\n",
        "\n",
        "## Binding Code (`bindings.cpp`)\n",
        "```cpp\n",
        "#include <pybind11/pybind11.h>\n",
        "#include \"main.h\"\n",
        "\n",
        "namespace py = pybind11;\n",
        "\n",
        "PYBIND11_MODULE(example, m) {\n",
        "    m.def(\"add\", &add, \"A function that adds two numbers\");\n",
        "}\n",
        "```\n",
        "\n",
        "The binding code is kept in a separate file, `bindings.cpp`. It includes the necessary headers and uses `pybind11` to bind the C++ functions to Python.\n",
        "\n",
        "By keeping these two concerns separate, we ensure that our C++ logic remains pure and can be used in other contexts, while the binding code serves as a bridge between C++ and Python."
      ],
      "metadata": {
        "amin": {
          "cell_type": "markdown"
        }
      },
      "id": "d362c1ad-ae20-4dfc-88aa-9d8b55e73883"
    },
    {
      "cell_type": "markdown",
      "source": [
        "# Google Test for C++ Code\n",
        "\n",
        "Testing ensures the reliability and correctness of our code. For C++ code, Google Test is a widely-used testing framework that provides a rich set of assertions and utilities to write tests.\n",
        "\n",
        "Let's see how we can write tests for our C++ functions using Google Test.\n",
        "\n",
        "## Setting Up Google Test\n",
        "First, you'll need to download and build Google Test. You can find the source code and instructions on their [GitHub repository](https://github.com/google/googletest).\n",
        "\n",
        "Once set up, you can write tests for your C++ functions.\n",
        "\n",
        "## Writing Tests (`test_main.cpp`)\n",
        "```cpp\n",
        "#include <gtest/gtest.h>\n",
        "#include \"main.h\"\n",
        "\n",
        "TEST(MathOperationsTest, AddTest) {\n",
        "    EXPECT_DOUBLE_EQ(add(3.0, 4.0), 7.0);\n",
        "    EXPECT_DOUBLE_EQ(add(-3.0, 4.0), 1.0);\n",
        "}\n",
        "```\n",
        "\n",
        "In the test code above, we include the necessary headers and then define a test using the `TEST` macro provided by Google Test. The `EXPECT_DOUBLE_EQ` macro checks if the two given values are almost equal (useful for floating-point comparisons).\n",
        "\n",
        "## Running Tests\n",
        "After writing the tests, you can compile and run them. If using CMake, you can integrate Google Test into your build process, making it easier to compile and run tests.\n",
        "\n",
        "By regularly writing and running tests, you ensure the correctness of your C++ code, especially when making changes or adding new features."
      ],
      "metadata": {
        "amin": {
          "cell_type": "markdown"
        }
      },
      "id": "b4b45904-6c18-4e72-a380-b2de22d68bbe"
    },
    {
      "cell_type": "markdown",
      "source": [
        "# Complete Python Code\n",
        "\n",
        "After binding our C++ functions to Python using `pybind11`, we can call them from Python as if they were regular Python functions. This integration allows us to harness the power and speed of C++ within our Python applications.\n",
        "\n",
        "Let's see how we can call our bound C++ functions from Python.\n",
        "\n",
        "## Python Script (`main.py`)\n",
        "```python\n",
        "import example\n",
        "\n",
        "# Call the add function\n",
        "result = example.add(5, 3)\n",
        "print(f\"5 + 3 = {result}\")\n",
        "\n",
        "# If using namespaces, access functions as follows:\n",
        "# result = example.math_operations.add(5, 3)\n",
        "```\n",
        "\n",
        "In the Python script above, we import our `example` module (which corresponds to our C++ code) and then call the `add` function. The result is then printed to the console.\n",
        "\n",
        "If we had used namespaces in our C++ code, the corresponding Python bindings would be organized as submodules, and we would access the functions accordingly, as shown in the commented code.\n",
        "\n",
        "This seamless integration allows us to easily call C++ functions from Python, benefiting from the performance advantages of C++ while enjoying the flexibility and ease of Python."
      ],
      "metadata": {
        "amin": {
          "cell_type": "markdown"
        }
      },
      "id": "1474d328-e351-4944-8721-213b4178ab0e"
    },
    {
      "cell_type": "markdown",
      "source": [
        "# CMake Configuration\n",
        "\n",
        "CMake is a powerful tool that helps in managing the build process of software projects. For our project, we'll use CMake to compile our C++ code along with the `pybind11` bindings.\n",
        "\n",
        "Let's see how we can set up a `CMakeLists.txt` file for our project and provide compilation instructions.\n",
        "\n",
        "## CMakeLists.txt\n",
        "```cmake\n",
        "cmake_minimum_required(VERSION 3.12)\n",
        "project(ExampleProject)\n",
        "\n",
        "# Add pybind11\n",
        "add_subdirectory(pybind11)\n",
        "\n",
        "# Define our library\n",
        "add_library(example MODULE main.cpp bindings.cpp)\n",
        "\n",
        "# Link pybind11 to our library\n",
        "target_link_libraries(example PRIVATE pybind11::module)\n",
        "```\n",
        "\n",
        "In the `CMakeLists.txt` file above, we start by specifying the minimum required version of CMake and define our project. We then add `pybind11` as a subdirectory, which assumes that the `pybind11` source code is located in a folder named `pybind11` within our project directory. Next, we define our library and link `pybind11` to it.\n",
        "\n",
        "## Compilation Instructions\n",
        "To compile our project using CMake, follow these steps:\n",
        "\n",
        "1. Navigate to the project root directory.\n",
        "2. Create a build directory and navigate to it:\n",
        "   ```bash\n",
        "   mkdir build\n",
        "   cd build\n",
        "   ```\n",
        "3. Run CMake to generate the build files:\n",
        "   ```bash\n",
        "   cmake ..\n",
        "   ```\n",
        "4. Compile the project:\n",
        "   ```bash\n",
        "   cmake --build .\n",
        "   ```\n",
        "\n",
        "After compilation, you'll find the generated Python module (a shared library) in the build directory. You can then import this module in your Python scripts and use the bound C++ functions."
      ],
      "metadata": {
        "amin": {
          "cell_type": "markdown"
        }
      },
      "id": "73df72da-e7c5-4214-8e48-ee8fc7c36cf9"
    }
  ],
  "metadata": {
    "amin-notebook": {
      "create_notebook": {
        "openai_conversation_id": "807b3ca4-4c92-5fcb-b3bd-1b08908d7510",
        "openai_ephemeral_user_id": "72cd86fa-d0ff-5011-93f3-9ff3caa8c977",
        "openai_subdivision1_iso_code": "CA-ON"
      }
    },
    "kernel_info": {
      "name": "python3"
    },
    "kernelspec": {
      "display_name": "Python 3.9",
      "language": "python",
      "name": "python3"
    },
    "selected_hardware_size": "small",
    "amin": {
      "last_delta_id": "3ded5140-2468-4160-b7ef-df15d452b90e"
    },
    "nteract": {
      "version": "amin@2.9.0"
    }
  },
  "nbformat": 4,
  "nbformat_minor": 5
}