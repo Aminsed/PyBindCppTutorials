{
  "cells": [
    {
      "cell_type": "markdown",
      "source": [
        "## Introduction to Pybind11\n",
        "\n",
        "Pybind11 is a lightweight header-only library that exposes C++ types in Python and vice versa, mainly to create Python bindings of existing C++ code. Its main goals and features are:\n",
        "\n",
        "- Seamless operability between C++11 and Python.\n",
        "- Requires no additional dependencies or libraries, just a modern C++ compiler.\n",
        "- Exposes C++ functions and classes to Python and vice versa.\n",
        "- Supports automatic conversion between C++ and Python standard types.\n",
        "- Provides a simple interface to bind C++ classes and functions.\n",
        "\n",
        "With Pybind11, you can easily wrap C++ code and make it available as a Python module, allowing you to leverage the performance of C++ with the flexibility and ease of Python."
      ],
      "metadata": {
        "noteable": {
          "cell_type": "markdown"
        }
      },
      "id": "b4ae22c8-4cdb-4946-82e7-140428ecda1a"
    },
    {
      "cell_type": "markdown",
      "source": [
        "## Setting Up the Environment\n",
        "\n",
        "Before we start with the actual binding process, we need to set up our development environment. Here are the steps to do so:\n",
        "\n",
        "1. **Install Pybind11**: You can install Pybind11 using pip:\n",
        "   ```bash\n",
        "   pip install pybind11\n",
        "   ```\n",
        "   Alternatively, you can also clone the Pybind11 GitHub repository and include it in your project.\n",
        "\n",
        "2. **Install CMake**: CMake is a cross-platform build system. You can download and install it from [CMake's official website](https://cmake.org/download/).\n",
        "\n",
        "3. **Install Google Test (Optional)**: If you plan to write tests for your C++ code using Google Test, you can clone the [Google Test GitHub repository](https://github.com/google/googletest) and include it in your project.\n",
        "\n",
        "With these tools installed, we're ready to start creating our bindings!"
      ],
      "metadata": {
        "noteable": {
          "cell_type": "markdown"
        }
      },
      "id": "45160974-ca45-4436-8fe7-47de9238ef42"
    },
    {
      "cell_type": "markdown",
      "source": [
        "## Basic Binding\n",
        "\n",
        "Let's start by creating a simple C++ function and binding it to Python using Pybind11.\n",
        "\n",
        "### C++ Code (`example.cpp`)\n",
        "```cpp\n",
        "#include <pybind11/pybind11.h>\n",
        "\n",
        "int add(int a, int b) {\n",
        "    return a + b;\n",
        "}\n",
        "\n",
        "PYBIND11_MODULE(example, m) {\n",
        "    m.def(\"add\", &add, \"A function that adds two numbers\");\n",
        "}\n",
        "```\n",
        "In the code above, we have a simple function `add` that takes two integers and returns their sum. The `PYBIND11_MODULE` macro creates a module named `example` and binds the `add` function to it.\n",
        "\n",
        "### Binding Code (`binding.cpp`)\n",
        "```cpp\n",
        "#include <pybind11/pybind11.h>\n",
        "#include \"example.cpp\"\n",
        "\n",
        "PYBIND11_MODULE(example, m) {\n",
        "    m.def(\"add\", &add, \"A function that adds two numbers\");\n",
        "}\n",
        "```\n",
        "Here, we separate the binding code from the actual implementation. We include the `example.cpp` file and bind the `add` function in a similar manner."
      ],
      "metadata": {
        "noteable": {
          "cell_type": "markdown"
        }
      },
      "id": "e38ffc29-8267-4c41-a1fb-e77b291d5528"
    },
    {
      "cell_type": "markdown",
      "source": [
        "## Exception Handling\n",
        "\n",
        "When working with C++ and Python bindings, it's essential to handle exceptions that might arise. Pybind11 provides mechanisms to translate C++ exceptions into Python exceptions and vice versa.\n",
        "\n",
        "### C++ Code with Exception\n",
        "```cpp\n",
        "#include <pybind11/pybind11.h>\n",
        "\n",
        "int divide(int a, int b) {\n",
        "    if (b == 0) {\n",
        "        throw std::runtime_error(\"Division by zero!\");\n",
        "    }\n",
        "    return a / b;\n",
        "}\n",
        "\n",
        "PYBIND11_MODULE(example, m) {\n",
        "    m.def(\"divide\", &divide);\n",
        "}\n",
        "```\n",
        "In the code above, the `divide` function throws a `std::runtime_error` if the divisor is zero. When this function is called from Python, Pybind11 will automatically translate this C++ exception into a Python `RuntimeError` exception."
      ],
      "metadata": {
        "noteable": {
          "cell_type": "markdown"
        }
      },
      "id": "eb8cf347-bee6-4fd8-a5b9-8bad5c92f55f"
    },
    {
      "cell_type": "markdown",
      "source": [
        "## Separating Binding Code\n",
        "\n",
        "It's a good practice to keep the binding code separate from the actual C++ implementation. This ensures that the core C++ code remains clean and can be used independently of the Python bindings.\n",
        "\n",
        "### Folder Structure\n",
        "```\n",
        "project_root/\n",
        "│\n",
        "├── src/\n",
        "│   ├── example.cpp\n",
        "│   └── binding.cpp\n",
        "│\n",
        "└── include/\n",
        "    └── example.h\n",
        "```\n",
        "In the structure above:\n",
        "\n",
        "- `example.cpp` contains the actual C++ implementation.\n",
        "- `binding.cpp` contains the Pybind11 binding code.\n",
        "- `example.h` (optional) can contain the header declarations if needed.\n",
        "\n",
        "By organizing the code in this manner, you can easily manage, test, and maintain the C++ code and bindings separately."
      ],
      "metadata": {
        "noteable": {
          "cell_type": "markdown"
        }
      },
      "id": "9c561519-f0e9-4145-acce-dcb2f54c467a"
    },
    {
      "cell_type": "markdown",
      "source": [
        "## Google Test\n",
        "\n",
        "Google Test is a popular C++ testing framework. It's essential to test your C++ code to ensure its correctness, especially when it's going to be used in Python through bindings.\n",
        "\n",
        "### Setting Up Google Test\n",
        "1. Clone the Google Test repository:\n",
        "   ```bash\n",
        "   git clone https://github.com/google/googletest.git\n",
        "   ```\n",
        "2. Add the Google Test directory to your project.\n",
        "\n",
        "### Writing a Test\n",
        "Let's write a test for our `add` function.\n",
        "\n",
        "```cpp\n",
        "#include \"example.cpp\"\n",
        "#include <gtest/gtest.h>\n",
        "\n",
        "TEST(AdditionTest, PositiveNumbers) {\n",
        "    EXPECT_EQ(add(1, 2), 3);\n",
        "    EXPECT_EQ(add(10, 20), 30);\n",
        "}\n",
        "\n",
        "TEST(AdditionTest, NegativeNumbers) {\n",
        "    EXPECT_EQ(add(-1, -2), -3);\n",
        "    EXPECT_EQ(add(-10, -20), -30);\n",
        "}\n",
        "```\n",
        "In the code above, we've written two tests for the `add` function, one for positive numbers and one for negative numbers. The `EXPECT_EQ` macro checks if the two provided values are equal."
      ],
      "metadata": {
        "noteable": {
          "cell_type": "markdown"
        }
      },
      "id": "97a4f76a-e3e2-47d5-b53c-f672cdf2942c"
    },
    {
      "cell_type": "markdown",
      "source": [
        "## Python Code\n",
        "\n",
        "Once you've created the bindings, you can call the C++ functions from Python. Here's how you can do it for our `add` function:\n",
        "\n",
        "```python\n",
        "import example\n",
        "\n",
        "result = example.add(5, 3)\n",
        "print(result)  # Outputs: 8\n",
        "```\n",
        "In the Python code above, we import the `example` module (which is the C++ code we bound) and call the `add` function. The result is then printed to the console."
      ],
      "metadata": {
        "noteable": {
          "cell_type": "markdown"
        }
      },
      "id": "28b4087c-8163-49ee-9f94-4d47a821d990"
    },
    {
      "cell_type": "markdown",
      "source": [
        "## CMake Configuration\n",
        "\n",
        "To compile the C++ code and bindings, we'll use CMake. Here's a basic `CMakeLists.txt` file to set up the project:\n",
        "\n",
        "```cmake\n",
        "cmake_minimum_required(VERSION 3.12)\n",
        "project(ExampleProject)\n",
        "\n",
        "set(CMAKE_CXX_STANDARD 11)\n",
        "\n",
        "add_subdirectory(googletest)\n",
        "\n",
        "find_package(pybind11 REQUIRED)\n",
        "\n",
        "add_library(example MODULE src/binding.cpp src/example.cpp)\n",
        "target_link_libraries(example PRIVATE pybind11::module)\n",
        "\n",
        "add_executable(tests tests.cpp)\n",
        "target_link_libraries(tests gtest gtest_main)\n",
        "```\n",
        "In the CMake configuration above:\n",
        "\n",
        "- We set the minimum required CMake version and the project name.\n",
        "- We specify the C++ standard to be used.\n",
        "- The `googletest` directory is added for testing.\n",
        "- We find the Pybind11 package.\n",
        "- The `example` library is created from the source files.\n",
        "- The tests executable is created and linked with Google Test."
      ],
      "metadata": {
        "noteable": {
          "cell_type": "markdown"
        }
      },
      "id": "dbd9e3c6-1916-40f6-b590-b20f56d6c3e4"
    },
    {
      "cell_type": "markdown",
      "source": [
        "## Compilation Instructions\n",
        "\n",
        "Once you have the CMake configuration set up, you can compile the project using the following steps:\n",
        "\n",
        "1. **Create a Build Directory**:\n",
        "   ```bash\n",
        "   mkdir build\n",
        "   cd build\n",
        "   ```\n",
        "\n",
        "2. **Run CMake**:\n",
        "   ```bash\n",
        "   cmake ..\n",
        "   ```\n",
        "\n",
        "3. **Compile the Code**:\n",
        "   ```bash\n",
        "   make\n",
        "   ```\n",
        "\n",
        "4. **Run Tests (Optional)**:\n",
        "   ```bash\n",
        "   ./tests\n",
        "   ```\n",
        "\n",
        "After compilation, you'll find the Python module (`example.so` or `example.pyd` depending on your platform) in the build directory. You can then import this module in Python and use the bound functions."
      ],
      "metadata": {
        "noteable": {
          "cell_type": "markdown"
        }
      },
      "id": "82913d39-3251-49e1-8f56-5d8ff6c901b4"
    },
    {
      "cell_type": "markdown",
      "source": [
        "## Using Namespaces\n",
        "\n",
        "Namespaces in C++ are used to organize code into logical groups and to prevent name collisions that can occur especially when your code base includes multiple libraries.\n",
        "\n",
        "Let's see how to use namespaces in our C++ code and how to bind them using Pybind11.\n",
        "\n",
        "### C++ Code with Namespace\n",
        "```cpp\n",
        "#include <pybind11/pybind11.h>\n",
        "\n",
        "namespace math_operations {\n",
        "\n",
        "int add(int a, int b) {\n",
        "    return a + b;\n",
        "}\n",
        "\n",
        "}  // namespace math_operations\n",
        "\n",
        "PYBIND11_MODULE(example, m) {\n",
        "    pybind11::module_ subm = m.def_submodule(\"math_operations\");\n",
        "    subm.def(\"add\", &math_operations::add);\n",
        "}\n",
        "```\n",
        "In the code above, we've defined a namespace `math_operations` that contains the `add` function. When binding this function using Pybind11, we create a submodule with the same name as the namespace and bind the function to this submodule. This way, in Python, you can access the function as `example.math_operations.add`."
      ],
      "metadata": {
        "noteable": {
          "cell_type": "markdown"
        }
      },
      "id": "e04933ad-1dc3-403e-b24b-82cbcaa02dc2"
    },
    {
      "cell_type": "markdown",
      "source": [
        "## Extended Namespace Example\n",
        "\n",
        "Building upon our previous example, let's delve deeper into using namespaces with Pybind11. We'll cover:\n",
        "\n",
        "- More complex namespace structures\n",
        "- Exception handling within namespaces\n",
        "- Separation of binding code and implementation\n",
        "- Testing C++ code within namespaces using Google Test\n",
        "- Python code to utilize the bound functions\n",
        "- CMake configuration for the project\n",
        "- Folder structure and compilation instructions\n",
        "\n",
        "### Complex Namespace Structures\n",
        "\n",
        "Namespaces can be nested to create a hierarchical structure. Let's create a nested namespace with multiple functions:\n",
        "\n",
        "```cpp\n",
        "namespace math {\n",
        "    namespace operations {\n",
        "\n",
        "        int add(int a, int b) {\n",
        "            return a + b;\n",
        "        }\n",
        "\n",
        "        int subtract(int a, int b) {\n",
        "            return a - b;\n",
        "        }\n",
        "\n",
        "    }  // namespace operations\n",
        "}  // namespace math\n",
        "```\n",
        "Here, we have a top-level namespace `math` and a nested namespace `operations` containing two functions: `add` and `subtract`."
      ],
      "metadata": {
        "noteable": {
          "cell_type": "markdown"
        }
      },
      "id": "c5c26777-9683-4742-ba08-620f0ca4e892"
    },
    {
      "cell_type": "markdown",
      "source": [
        "### Exception Handling within Namespaces\n",
        "\n",
        "Handling exceptions within namespaces is similar to how we handle them in regular C++ code. Let's add a division function that throws an exception for division by zero:\n",
        "\n",
        "```cpp\n",
        "namespace math {\n",
        "    namespace operations {\n",
        "\n",
        "        int divide(int a, int b) {\n",
        "            if (b == 0) {\n",
        "                throw std::runtime_error(\"Division by zero!\");\n",
        "            }\n",
        "            return a / b;\n",
        "        }\n",
        "\n",
        "    }  // namespace operations\n",
        "}  // namespace math\n",
        "```\n",
        "When this function is called from Python, Pybind11 will translate the C++ `std::runtime_error` into a Python `RuntimeError` exception."
      ],
      "metadata": {
        "noteable": {
          "cell_type": "markdown"
        }
      },
      "id": "c4547ce6-3cdd-441a-b202-58c40dbbde0e"
    },
    {
      "cell_type": "markdown",
      "source": [
        "### Separation of Binding Code and Implementation\n",
        "\n",
        "For better organization, we'll separate the binding code from the actual implementation. Let's create separate files for the implementation and the bindings:\n",
        "\n",
        "- `math_operations.cpp`: Contains the actual implementation of the functions.\n",
        "- `bindings.cpp`: Contains the Pybind11 binding code.\n",
        "\n",
        "#### `math_operations.cpp`\n",
        "```cpp\n",
        "#include <stdexcept>\n",
        "\n",
        "namespace math {\n",
        "    namespace operations {\n",
        "\n",
        "        int add(int a, int b) {\n",
        "            return a + b;\n",
        "        }\n",
        "\n",
        "        int subtract(int a, int b) {\n",
        "            return a - b;\n",
        "        }\n",
        "\n",
        "        int divide(int a, int b) {\n",
        "            if (b == 0) {\n",
        "                throw std::runtime_error(\"Division by zero!\");\n",
        "            }\n",
        "            return a / b;\n",
        "        }\n",
        "\n",
        "    }  // namespace operations\n",
        "}  // namespace math\n",
        "```\n",
        "\n",
        "#### `bindings.cpp`\n",
        "```cpp\n",
        "#include <pybind11/pybind11.h>\n",
        "#include \"math_operations.cpp\"\n",
        "\n",
        "PYBIND11_MODULE(example, m) {\n",
        "    pybind11::module_ math_mod = m.def_submodule(\"math\");\n",
        "    pybind11::module_ ops_mod = math_mod.def_submodule(\"operations\");\n",
        "\n",
        "    ops_mod.def(\"add\", &math::operations::add);\n",
        "    ops_mod.def(\"subtract\", &math::operations::subtract);\n",
        "    ops_mod.def(\"divide\", &math::operations::divide);\n",
        "}\n",
        "```\n",
        "In the binding code, we create submodules corresponding to the namespaces and bind the functions to the appropriate submodule."
      ],
      "metadata": {
        "noteable": {
          "cell_type": "markdown"
        }
      },
      "id": "4f9a8fe1-0177-46bb-b55a-395c5be61367"
    },
    {
      "cell_type": "markdown",
      "source": [
        "### Google Test for Namespace Functions\n",
        "\n",
        "Testing functions within namespaces using Google Test is straightforward. Let's write tests for our `math::operations` functions.\n",
        "\n",
        "#### `tests.cpp`\n",
        "```cpp\n",
        "#include \"math_operations.cpp\"\n",
        "#include <gtest/gtest.h>\n",
        "\n",
        "TEST(MathOperationsTest, Add) {\n",
        "    EXPECT_EQ(math::operations::add(1, 2), 3);\n",
        "    EXPECT_EQ(math::operations::add(-1, 2), 1);\n",
        "}\n",
        "\n",
        "TEST(MathOperationsTest, Subtract) {\n",
        "    EXPECT_EQ(math::operations::subtract(5, 3), 2);\n",
        "    EXPECT_EQ(math::operations::subtract(5, -3), 8);\n",
        "}\n",
        "\n",
        "TEST(MathOperationsTest, Divide) {\n",
        "    EXPECT_EQ(math::operations::divide(6, 3), 2);\n",
        "    EXPECT_THROW(math::operations::divide(6, 0), std::runtime_error);\n",
        "}\n",
        "```\n",
        "In the tests above, we're testing the `add`, `subtract`, and `divide` functions from the `math::operations` namespace. The `EXPECT_THROW` macro is used to check if a specific exception is thrown."
      ],
      "metadata": {
        "noteable": {
          "cell_type": "markdown"
        }
      },
      "id": "f734785d-65b2-4659-99cd-be71b83cdc23"
    },
    {
      "cell_type": "markdown",
      "source": [
        "### Python Code for Namespace Functions\n",
        "\n",
        "After binding the C++ functions within namespaces, you can call them from Python as follows:\n",
        "\n",
        "```python\n",
        "import example\n",
        "\n",
        "result_add = example.math.operations.add(5, 3)\n",
        "print(result_add)  # Outputs: 8\n",
        "\n",
        "result_sub = example.math.operations.subtract(5, 3)\n",
        "print(result_sub)  # Outputs: 2\n",
        "\n",
        "try:\n",
        "    result_div = example.math.operations.divide(5, 0)\n",
        "except RuntimeError as e:\n",
        "    print(str(e))  # Outputs: Division by zero!\n",
        "```\n",
        "In the Python code above, we access the functions within the `math::operations` namespace using the `example.math.operations` module path. We also handle the `RuntimeError` exception thrown by the `divide` function."
      ],
      "metadata": {
        "noteable": {
          "cell_type": "markdown"
        }
      },
      "id": "223d7ea9-84eb-4e5a-afdb-2e8ecd5b1ca2"
    },
    {
      "cell_type": "markdown",
      "source": [
        "### CMake Configuration for Namespace Functions\n",
        "\n",
        "The CMake configuration remains largely the same, but let's update it to account for the new files and structure:\n",
        "\n",
        "```cmake\n",
        "cmake_minimum_required(VERSION 3.12)\n",
        "project(NamespaceExampleProject)\n",
        "\n",
        "set(CMAKE_CXX_STANDARD 11)\n",
        "\n",
        "add_subdirectory(googletest)\n",
        "\n",
        "find_package(pybind11 REQUIRED)\n",
        "\n",
        "add_library(example MODULE src/bindings.cpp src/math_operations.cpp)\n",
        "target_link_libraries(example PRIVATE pybind11::module)\n",
        "\n",
        "add_executable(tests tests.cpp)\n",
        "target_link_libraries(tests gtest gtest_main)\n",
        "```\n",
        "The main change here is the addition of `math_operations.cpp` to the `add_library` command, which ensures that the functions within the `math::operations` namespace are included in the compiled module."
      ],
      "metadata": {
        "noteable": {
          "cell_type": "markdown"
        }
      },
      "id": "779f9885-24e7-4bdd-8d7c-55d27423f83e"
    },
    {
      "cell_type": "markdown",
      "source": [
        "### Folder Structure and Compilation Instructions\n",
        "\n",
        "For the extended namespace example, the folder structure can be organized as follows:\n",
        "\n",
        "```\n",
        "project_root/\n",
        "│\n",
        "├── src/\n",
        "│   ├── math_operations.cpp\n",
        "│   └── bindings.cpp\n",
        "│\n",
        "├── tests/\n",
        "│   └── tests.cpp\n",
        "│\n",
        "└── CMakeLists.txt\n",
        "```\n",
        "\n",
        "Compilation steps remain the same as before:\n",
        "\n",
        "1. **Create a Build Directory**:\n",
        "   ```bash\n",
        "   mkdir build\n",
        "   cd build\n",
        "   ```\n",
        "\n",
        "2. **Run CMake**:\n",
        "   ```bash\n",
        "   cmake ..\n",
        "   ```\n",
        "\n",
        "3. **Compile the Code**:\n",
        "   ```bash\n",
        "   make\n",
        "   ```\n",
        "\n",
        "4. **Run Tests (Optional)**:\n",
        "   ```bash\n",
        "   ./tests\n",
        "   ```\n",
        "\n",
        "After compilation, the Python module will be available in the build directory, and you can import it in Python to access the bound functions."
      ],
      "metadata": {
        "noteable": {
          "cell_type": "markdown"
        }
      },
      "id": "c9a349e4-3681-4c56-98f2-6d82778451bf"
    }
  ],
  "metadata": {
    "noteable-chatgpt": {
      "create_notebook": {
        "openai_conversation_id": "807b3ca4-4c92-5fcb-b3bd-1b08908d7510",
        "openai_ephemeral_user_id": "72cd86fa-d0ff-5011-93f3-9ff3caa8c977",
        "openai_subdivision1_iso_code": "CA-ON"
      }
    },
    "kernel_info": {
      "name": "python3"
    },
    "kernelspec": {
      "display_name": "Python 3.9",
      "language": "python",
      "name": "python3"
    },
    "selected_hardware_size": "small",
    "noteable": {
      "last_delta_id": "3e484145-806c-4f26-bc97-06ba14a47348"
    },
    "nteract": {
      "version": "noteable@2.9.0"
    }
  },
  "nbformat": 4,
  "nbformat_minor": 5
}